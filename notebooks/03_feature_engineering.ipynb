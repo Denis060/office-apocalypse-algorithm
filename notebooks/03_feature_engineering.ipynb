{
  "cells": [
    {
      "cell_type": "markdown",
      "metadata": {},
      "source": "# 03 \u00b7 Feature Engineering\nCreate building/location/ecosystem/mobility/stress features."
    },
    {
      "cell_type": "code",
      "execution_count": null,
      "metadata": {},
      "outputs": [],
      "source": "print('Feature engineering scaffold. Define functions and write to ../data/processed/features.csv')"
    }
  ],
  "metadata": {},
  "nbformat": 4,
  "nbformat_minor": 5
}