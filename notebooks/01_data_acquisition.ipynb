{
  "cells": [
    {
      "cell_type": "markdown",
      "id": "842e9086",
      "metadata": {},
      "source": [
        "# 01 · Data Acquisition & Initial Checks\n",
        "Place CSVs in `../data/raw/`. This notebook loads, inspects, and writes cleaned copies to `../data/processed/`."
      ]
    },
    {
      "cell_type": "code",
      "execution_count": 1,
      "id": "fd661969",
      "metadata": {},
      "outputs": [],
      "source": [
        "import pandas as pd\n",
        "from pathlib import Path\n",
        "import warnings"
      ]
    },
    {
      "cell_type": "code",
      "execution_count": 2,
      "id": "aa7fae24",
      "metadata": {},
      "outputs": [],
      "source": [
        "# --- Cell 1: Setup ---\n",
        "# Suppress DtypeWarning as we will handle types explicitly\n",
        "warnings.filterwarnings('ignore', category=pd.errors.DtypeWarning)"
      ]
    },
    {
      "cell_type": "code",
      "execution_count": null,
      "id": "34234d4b",
      "metadata": {},
      "outputs": [],
      "source": [
        "# Define file paths and names\n",
        "RAW = Path('../data/raw')\n",
        "PRO = Path('../data/processed')\n",
        "PRO.mkdir(parents=True, exist_ok=True)\n",
        "\n",
        "PLUTO_FILE = 'pluto_25v2_1.csv' \n",
        "ACRIS_FILE = 'ACRIS_-_Real_Property_Legals_20250915.csv'\n",
        "BIZ_REGISTRY_FILE = 'business_registry.csv'  # Fixed: lowercase filename\n",
        "VACANT_STORE_FILE = 'Storefronts_Reported_Vacant_or_Not_20250915.csv'\n",
        "DOB_PERMITS_FILE = 'DOB_Permit_Issuance_20250915.csv'\n",
        "MTA_FILE = 'MTA_Subway_Hourly_Ridership__2020-2024.csv'"
      ]
    },
    {
      "cell_type": "code",
      "execution_count": 4,
      "id": "93ea5ef0",
      "metadata": {},
      "outputs": [],
      "source": [
        "# --- Cell 2: Define Loading Functions and Data Types ---\n",
        "def load_and_display(name, dtypes=None, chunksize=None):\n",
        "    \"\"\"Loads a CSV, optionally with specific dtypes or in chunks.\"\"\"\n",
        "    fp = RAW / name\n",
        "    if not fp.exists():\n",
        "        print(f'[ERROR] Missing file: {name}. Please place it in the `{RAW}` directory.')\n",
        "        return None\n",
        "    \n",
        "    try:\n",
        "        df_or_iterator = pd.read_csv(fp, dtype=dtypes, chunksize=chunksize)\n",
        "        \n",
        "        if chunksize:\n",
        "            print(f'Loaded {name} as a chunk iterator.')\n",
        "            return df_or_iterator\n",
        "            \n",
        "        print(f'Loaded {name}: {df_or_iterator.shape}')\n",
        "        print(\"First 5 rows:\")\n",
        "        print(df_or_iterator.head())\n",
        "        return df_or_iterator\n",
        "    except Exception as e:\n",
        "        print(f'[ERROR] Could not load {name}. Reason: {e}')\n",
        "        return None"
      ]
    },
    {
      "cell_type": "code",
      "execution_count": 5,
      "id": "d1925e93",
      "metadata": {},
      "outputs": [],
      "source": [
        "# Define dtypes for PLUTO to optimize memory\n",
        "pluto_dtypes = {\n",
        "    'BBL': str, 'BoroCode': 'Int8', 'Block': 'Int32', 'Lot': 'Int16', 'CD': 'Int16',\n",
        "    'ZipCode': 'Int32', 'LandUse': 'category', 'OwnerType': 'category', 'BldgClass': 'category',\n",
        "    'NumBldgs': 'Int16', 'NumFloors': 'float32', 'UnitsRes': 'Int16', 'UnitsTotal': 'Int16',\n",
        "    'YearBuilt': 'Int16', 'YearAlter1': 'Int16', 'BuiltFAR': 'float32', 'AssessLand': 'float64',\n",
        "    'AssessTot': 'float64', 'ExemptTot': 'float64', 'LotArea': 'Int64', 'BldgArea': 'Int64',\n",
        "    'ComArea': 'Int64', 'ResArea': 'Int64', 'OfficeArea': 'Int64'\n",
        "}"
      ]
    },
    {
      "cell_type": "code",
      "execution_count": 6,
      "id": "d4f125be",
      "metadata": {},
      "outputs": [
        {
          "name": "stdout",
          "output_type": "stream",
          "text": [
            "--- Loading Standard Datasets ---\n",
            "Loaded pluto_25v2_1.csv: (857736, 92)\n",
            "First 5 rows:\n",
            "  borough  block  lot     cd    bct2020     bctcb2020  ct2010  cb2010  \\\n",
            "0      QN   6421   38  407.0  4083700.0  4.083700e+10   837.0  3005.0   \n",
            "1      QN   5175   20  407.0  4083700.0  4.083700e+10   837.0  3000.0   \n",
            "2      QN   5173  111  407.0  4083700.0  4.083700e+10   837.0  1001.0   \n",
            "3      QN   5174   16  407.0  4083700.0  4.083700e+10   837.0  3001.0   \n",
            "4      QN   6413   46  407.0  4083700.0  4.083700e+10   837.0  3004.0   \n",
            "\n",
            "   schooldist  council  ...  appbbl appdate  plutomapid  firm07_flag  \\\n",
            "0        25.0     20.0  ...     NaN     NaN           1          NaN   \n",
            "1        25.0     20.0  ...     NaN     NaN           1          NaN   \n",
            "2        25.0     20.0  ...     NaN     NaN           1          NaN   \n",
            "3        25.0     20.0  ...     NaN     NaN           1          NaN   \n",
            "4        25.0     20.0  ...     NaN     NaN           1          NaN   \n",
            "\n",
            "   pfirm15_flag  version  dcpedited   latitude  longitude notes  \n",
            "0           NaN   25v2.1        NaN  40.743955 -73.819475   NaN  \n",
            "1           NaN   25v2.1        NaN  40.744709 -73.819221   NaN  \n",
            "2           NaN   25v2.1        NaN  40.745663 -73.819727   NaN  \n",
            "3           NaN   25v2.1        NaN  40.745370 -73.820287   NaN  \n",
            "4           NaN   25v2.1        NaN  40.744404 -73.820864   NaN  \n",
            "\n",
            "[5 rows x 92 columns]\n",
            "Loaded DOB_Permit_Issuance_20250915.csv: (3981879, 60)\n",
            "First 5 rows:\n",
            "         BOROUGH    Bin # House #       Street Name      Job #  Job doc. #  \\\n",
            "0      MANHATTAN  1088749       1       MADISON AVE  141008987           1   \n",
            "1  STATEN ISLAND  5076937      87     BOYLAN STREET  540218539           1   \n",
            "2  STATEN ISLAND  5001506     217  LAFAYETTE AVENUE  540218575           1   \n",
            "3  STATEN ISLAND  5067021     170    OAKDALE STREET  540218600           1   \n",
            "4  STATEN ISLAND  5058036     273         10 STREET  540218628           1   \n",
            "\n",
            "  Job Type Self_Cert   Block   Lot  ... Owner’s House State  \\\n",
            "0       A3         Y   853.0   2.0  ...                 NaN   \n",
            "1       A2         Y  5687.0  66.0  ...                 NaN   \n",
            "2       A2         Y    64.0  22.0  ...                 NaN   \n",
            "3       A2         Y  5260.0   1.0  ...                 NaN   \n",
            "4       A2         Y  4242.0  45.0  ...                 NaN   \n",
            "\n",
            "   Owner’s House Zip Code  Owner's Phone #           DOBRunDate PERMIT_SI_NO  \\\n",
            "0                     NaN     2125942700.0  05/11/2022 00:00:00      3905851   \n",
            "1                     NaN     9174201655.0  05/11/2022 00:00:00      3905852   \n",
            "2                     NaN     7188125847.0  05/11/2022 00:00:00      3905853   \n",
            "3                     NaN     3478575846.0  05/11/2022 00:00:00      3905854   \n",
            "4                     NaN     7186195891.0  05/11/2022 00:00:00      3905855   \n",
            "\n",
            "    LATITUDE  LONGITUDE COUNCIL_DISTRICT CENSUS_TRACT  \\\n",
            "0  40.740909 -73.987947              2.0         56.0   \n",
            "1  40.563654 -74.179584             51.0      17008.0   \n",
            "2  40.639633 -74.094169             49.0         81.0   \n",
            "3  40.544597 -74.157153             51.0      15601.0   \n",
            "4  40.566798 -74.119726             50.0        134.0   \n",
            "\n",
            "                                     NTA_NAME  \n",
            "0  Hudson Yards-Chelsea-Flatiron-Union Square  \n",
            "1                               Arden Heights  \n",
            "2   West New Brighton-New Brighton-St. George  \n",
            "3                                 Great Kills  \n",
            "4                      New Dorp-Midland Beach  \n",
            "\n",
            "[5 rows x 60 columns]\n",
            "------------------------------\n"
          ]
        }
      ],
      "source": [
        "# --- Cell 3: Load Standard Datasets ---\n",
        "print(\"--- Loading Standard Datasets ---\")\n",
        "df_pluto = load_and_display(PLUTO_FILE, dtypes=pluto_dtypes)\n",
        "df_dob = load_and_display(DOB_PERMITS_FILE)\n",
        "print(\"-\" * 30)\n"
      ]
    },
    {
      "cell_type": "code",
      "execution_count": 8,
      "id": "16d1b233",
      "metadata": {},
      "outputs": [
        {
          "name": "stdout",
          "output_type": "stream",
          "text": [
            "\n",
            "--- Processing Large MTA Dataset ---\n",
            "Loaded MTA_Subway_Hourly_Ridership__2020-2024.csv as a chunk iterator.\n",
            "Processing MTA chunk 1...\n",
            "Processing MTA chunk 1...\n"
          ]
        },
        {
          "name": "stderr",
          "output_type": "stream",
          "text": [
            "C:\\Users\\pcric\\AppData\\Local\\Temp\\ipykernel_38132\\2888773040.py:9: UserWarning: Could not infer format, so each element will be parsed individually, falling back to `dateutil`. To ensure parsing is consistent and as-expected, please specify a format.\n",
            "  chunk['transit_timestamp'] = pd.to_datetime(chunk['transit_timestamp'])\n"
          ]
        },
        {
          "name": "stdout",
          "output_type": "stream",
          "text": [
            "Processing MTA chunk 2...\n"
          ]
        },
        {
          "name": "stderr",
          "output_type": "stream",
          "text": [
            "C:\\Users\\pcric\\AppData\\Local\\Temp\\ipykernel_38132\\2888773040.py:9: UserWarning: Could not infer format, so each element will be parsed individually, falling back to `dateutil`. To ensure parsing is consistent and as-expected, please specify a format.\n",
            "  chunk['transit_timestamp'] = pd.to_datetime(chunk['transit_timestamp'])\n"
          ]
        },
        {
          "name": "stdout",
          "output_type": "stream",
          "text": [
            "Processing MTA chunk 3...\n"
          ]
        },
        {
          "name": "stderr",
          "output_type": "stream",
          "text": [
            "C:\\Users\\pcric\\AppData\\Local\\Temp\\ipykernel_38132\\2888773040.py:9: UserWarning: Could not infer format, so each element will be parsed individually, falling back to `dateutil`. To ensure parsing is consistent and as-expected, please specify a format.\n",
            "  chunk['transit_timestamp'] = pd.to_datetime(chunk['transit_timestamp'])\n"
          ]
        },
        {
          "name": "stdout",
          "output_type": "stream",
          "text": [
            "Processing MTA chunk 4...\n"
          ]
        },
        {
          "name": "stderr",
          "output_type": "stream",
          "text": [
            "C:\\Users\\pcric\\AppData\\Local\\Temp\\ipykernel_38132\\2888773040.py:9: UserWarning: Could not infer format, so each element will be parsed individually, falling back to `dateutil`. To ensure parsing is consistent and as-expected, please specify a format.\n",
            "  chunk['transit_timestamp'] = pd.to_datetime(chunk['transit_timestamp'])\n"
          ]
        },
        {
          "name": "stdout",
          "output_type": "stream",
          "text": [
            "Processing MTA chunk 5...\n"
          ]
        },
        {
          "name": "stderr",
          "output_type": "stream",
          "text": [
            "C:\\Users\\pcric\\AppData\\Local\\Temp\\ipykernel_38132\\2888773040.py:9: UserWarning: Could not infer format, so each element will be parsed individually, falling back to `dateutil`. To ensure parsing is consistent and as-expected, please specify a format.\n",
            "  chunk['transit_timestamp'] = pd.to_datetime(chunk['transit_timestamp'])\n"
          ]
        },
        {
          "name": "stdout",
          "output_type": "stream",
          "text": [
            "Processing MTA chunk 6...\n",
            "Processing MTA chunk 7...\n",
            "Processing MTA chunk 7...\n"
          ]
        },
        {
          "name": "stderr",
          "output_type": "stream",
          "text": [
            "C:\\Users\\pcric\\AppData\\Local\\Temp\\ipykernel_38132\\2888773040.py:9: UserWarning: Could not infer format, so each element will be parsed individually, falling back to `dateutil`. To ensure parsing is consistent and as-expected, please specify a format.\n",
            "  chunk['transit_timestamp'] = pd.to_datetime(chunk['transit_timestamp'])\n"
          ]
        },
        {
          "name": "stdout",
          "output_type": "stream",
          "text": [
            "Processing MTA chunk 8...\n",
            "Processing MTA chunk 9...\n",
            "Processing MTA chunk 9...\n",
            "Processing MTA chunk 10...\n",
            "Processing MTA chunk 10...\n"
          ]
        },
        {
          "name": "stderr",
          "output_type": "stream",
          "text": [
            "C:\\Users\\pcric\\AppData\\Local\\Temp\\ipykernel_38132\\2888773040.py:9: UserWarning: Could not infer format, so each element will be parsed individually, falling back to `dateutil`. To ensure parsing is consistent and as-expected, please specify a format.\n",
            "  chunk['transit_timestamp'] = pd.to_datetime(chunk['transit_timestamp'])\n"
          ]
        },
        {
          "name": "stdout",
          "output_type": "stream",
          "text": [
            "Processing MTA chunk 11...\n",
            "Processing MTA chunk 12...\n",
            "Processing MTA chunk 12...\n"
          ]
        },
        {
          "name": "stderr",
          "output_type": "stream",
          "text": [
            "C:\\Users\\pcric\\AppData\\Local\\Temp\\ipykernel_38132\\2888773040.py:9: UserWarning: Could not infer format, so each element will be parsed individually, falling back to `dateutil`. To ensure parsing is consistent and as-expected, please specify a format.\n",
            "  chunk['transit_timestamp'] = pd.to_datetime(chunk['transit_timestamp'])\n"
          ]
        },
        {
          "name": "stdout",
          "output_type": "stream",
          "text": [
            "Processing MTA chunk 13...\n",
            "Processing MTA chunk 14...\n",
            "Processing MTA chunk 14...\n"
          ]
        },
        {
          "name": "stderr",
          "output_type": "stream",
          "text": [
            "C:\\Users\\pcric\\AppData\\Local\\Temp\\ipykernel_38132\\2888773040.py:9: UserWarning: Could not infer format, so each element will be parsed individually, falling back to `dateutil`. To ensure parsing is consistent and as-expected, please specify a format.\n",
            "  chunk['transit_timestamp'] = pd.to_datetime(chunk['transit_timestamp'])\n"
          ]
        },
        {
          "name": "stdout",
          "output_type": "stream",
          "text": [
            "Processing MTA chunk 15...\n"
          ]
        },
        {
          "name": "stderr",
          "output_type": "stream",
          "text": [
            "C:\\Users\\pcric\\AppData\\Local\\Temp\\ipykernel_38132\\2888773040.py:9: UserWarning: Could not infer format, so each element will be parsed individually, falling back to `dateutil`. To ensure parsing is consistent and as-expected, please specify a format.\n",
            "  chunk['transit_timestamp'] = pd.to_datetime(chunk['transit_timestamp'])\n"
          ]
        },
        {
          "name": "stdout",
          "output_type": "stream",
          "text": [
            "Processing MTA chunk 16...\n"
          ]
        },
        {
          "name": "stderr",
          "output_type": "stream",
          "text": [
            "C:\\Users\\pcric\\AppData\\Local\\Temp\\ipykernel_38132\\2888773040.py:9: UserWarning: Could not infer format, so each element will be parsed individually, falling back to `dateutil`. To ensure parsing is consistent and as-expected, please specify a format.\n",
            "  chunk['transit_timestamp'] = pd.to_datetime(chunk['transit_timestamp'])\n"
          ]
        },
        {
          "name": "stdout",
          "output_type": "stream",
          "text": [
            "Processing MTA chunk 17...\n",
            "Processing MTA chunk 18...\n",
            "Processing MTA chunk 18...\n",
            "Processing MTA chunk 19...\n",
            "Processing MTA chunk 19...\n"
          ]
        },
        {
          "name": "stderr",
          "output_type": "stream",
          "text": [
            "C:\\Users\\pcric\\AppData\\Local\\Temp\\ipykernel_38132\\2888773040.py:9: UserWarning: Could not infer format, so each element will be parsed individually, falling back to `dateutil`. To ensure parsing is consistent and as-expected, please specify a format.\n",
            "  chunk['transit_timestamp'] = pd.to_datetime(chunk['transit_timestamp'])\n"
          ]
        },
        {
          "name": "stdout",
          "output_type": "stream",
          "text": [
            "Processing MTA chunk 20...\n"
          ]
        },
        {
          "name": "stderr",
          "output_type": "stream",
          "text": [
            "C:\\Users\\pcric\\AppData\\Local\\Temp\\ipykernel_38132\\2888773040.py:9: UserWarning: Could not infer format, so each element will be parsed individually, falling back to `dateutil`. To ensure parsing is consistent and as-expected, please specify a format.\n",
            "  chunk['transit_timestamp'] = pd.to_datetime(chunk['transit_timestamp'])\n"
          ]
        },
        {
          "name": "stdout",
          "output_type": "stream",
          "text": [
            "Processing MTA chunk 21...\n"
          ]
        },
        {
          "name": "stderr",
          "output_type": "stream",
          "text": [
            "C:\\Users\\pcric\\AppData\\Local\\Temp\\ipykernel_38132\\2888773040.py:9: UserWarning: Could not infer format, so each element will be parsed individually, falling back to `dateutil`. To ensure parsing is consistent and as-expected, please specify a format.\n",
            "  chunk['transit_timestamp'] = pd.to_datetime(chunk['transit_timestamp'])\n"
          ]
        },
        {
          "name": "stdout",
          "output_type": "stream",
          "text": [
            "Processing MTA chunk 22...\n"
          ]
        },
        {
          "name": "stderr",
          "output_type": "stream",
          "text": [
            "C:\\Users\\pcric\\AppData\\Local\\Temp\\ipykernel_38132\\2888773040.py:9: UserWarning: Could not infer format, so each element will be parsed individually, falling back to `dateutil`. To ensure parsing is consistent and as-expected, please specify a format.\n",
            "  chunk['transit_timestamp'] = pd.to_datetime(chunk['transit_timestamp'])\n"
          ]
        },
        {
          "name": "stdout",
          "output_type": "stream",
          "text": [
            "Processing MTA chunk 23...\n"
          ]
        },
        {
          "name": "stderr",
          "output_type": "stream",
          "text": [
            "C:\\Users\\pcric\\AppData\\Local\\Temp\\ipykernel_38132\\2888773040.py:9: UserWarning: Could not infer format, so each element will be parsed individually, falling back to `dateutil`. To ensure parsing is consistent and as-expected, please specify a format.\n",
            "  chunk['transit_timestamp'] = pd.to_datetime(chunk['transit_timestamp'])\n"
          ]
        },
        {
          "name": "stdout",
          "output_type": "stream",
          "text": [
            "Processing MTA chunk 24...\n"
          ]
        },
        {
          "name": "stderr",
          "output_type": "stream",
          "text": [
            "C:\\Users\\pcric\\AppData\\Local\\Temp\\ipykernel_38132\\2888773040.py:9: UserWarning: Could not infer format, so each element will be parsed individually, falling back to `dateutil`. To ensure parsing is consistent and as-expected, please specify a format.\n",
            "  chunk['transit_timestamp'] = pd.to_datetime(chunk['transit_timestamp'])\n"
          ]
        },
        {
          "name": "stdout",
          "output_type": "stream",
          "text": [
            "Processing MTA chunk 25...\n",
            "Processing MTA chunk 26...\n",
            "Processing MTA chunk 26...\n",
            "Processing MTA chunk 27...\n",
            "Processing MTA chunk 27...\n"
          ]
        },
        {
          "name": "stderr",
          "output_type": "stream",
          "text": [
            "C:\\Users\\pcric\\AppData\\Local\\Temp\\ipykernel_38132\\2888773040.py:9: UserWarning: Could not infer format, so each element will be parsed individually, falling back to `dateutil`. To ensure parsing is consistent and as-expected, please specify a format.\n",
            "  chunk['transit_timestamp'] = pd.to_datetime(chunk['transit_timestamp'])\n"
          ]
        },
        {
          "name": "stdout",
          "output_type": "stream",
          "text": [
            "Processing MTA chunk 28...\n"
          ]
        },
        {
          "name": "stderr",
          "output_type": "stream",
          "text": [
            "C:\\Users\\pcric\\AppData\\Local\\Temp\\ipykernel_38132\\2888773040.py:9: UserWarning: Could not infer format, so each element will be parsed individually, falling back to `dateutil`. To ensure parsing is consistent and as-expected, please specify a format.\n",
            "  chunk['transit_timestamp'] = pd.to_datetime(chunk['transit_timestamp'])\n"
          ]
        },
        {
          "name": "stdout",
          "output_type": "stream",
          "text": [
            "Processing MTA chunk 29...\n",
            "Processing MTA chunk 30...\n",
            "Processing MTA chunk 30...\n",
            "Processing MTA chunk 31...\n",
            "Processing MTA chunk 31...\n"
          ]
        },
        {
          "name": "stderr",
          "output_type": "stream",
          "text": [
            "C:\\Users\\pcric\\AppData\\Local\\Temp\\ipykernel_38132\\2888773040.py:9: UserWarning: Could not infer format, so each element will be parsed individually, falling back to `dateutil`. To ensure parsing is consistent and as-expected, please specify a format.\n",
            "  chunk['transit_timestamp'] = pd.to_datetime(chunk['transit_timestamp'])\n"
          ]
        },
        {
          "name": "stdout",
          "output_type": "stream",
          "text": [
            "Processing MTA chunk 32...\n"
          ]
        },
        {
          "name": "stderr",
          "output_type": "stream",
          "text": [
            "C:\\Users\\pcric\\AppData\\Local\\Temp\\ipykernel_38132\\2888773040.py:9: UserWarning: Could not infer format, so each element will be parsed individually, falling back to `dateutil`. To ensure parsing is consistent and as-expected, please specify a format.\n",
            "  chunk['transit_timestamp'] = pd.to_datetime(chunk['transit_timestamp'])\n"
          ]
        },
        {
          "name": "stdout",
          "output_type": "stream",
          "text": [
            "Processing MTA chunk 33...\n"
          ]
        },
        {
          "name": "stderr",
          "output_type": "stream",
          "text": [
            "C:\\Users\\pcric\\AppData\\Local\\Temp\\ipykernel_38132\\2888773040.py:9: UserWarning: Could not infer format, so each element will be parsed individually, falling back to `dateutil`. To ensure parsing is consistent and as-expected, please specify a format.\n",
            "  chunk['transit_timestamp'] = pd.to_datetime(chunk['transit_timestamp'])\n"
          ]
        },
        {
          "name": "stdout",
          "output_type": "stream",
          "text": [
            "Processing MTA chunk 34...\n",
            "Processing MTA chunk 35...\n",
            "Processing MTA chunk 35...\n",
            "Processing MTA chunk 36...\n",
            "Processing MTA chunk 36...\n"
          ]
        },
        {
          "name": "stderr",
          "output_type": "stream",
          "text": [
            "C:\\Users\\pcric\\AppData\\Local\\Temp\\ipykernel_38132\\2888773040.py:9: UserWarning: Could not infer format, so each element will be parsed individually, falling back to `dateutil`. To ensure parsing is consistent and as-expected, please specify a format.\n",
            "  chunk['transit_timestamp'] = pd.to_datetime(chunk['transit_timestamp'])\n"
          ]
        },
        {
          "name": "stdout",
          "output_type": "stream",
          "text": [
            "Processing MTA chunk 37...\n"
          ]
        },
        {
          "name": "stderr",
          "output_type": "stream",
          "text": [
            "C:\\Users\\pcric\\AppData\\Local\\Temp\\ipykernel_38132\\2888773040.py:9: UserWarning: Could not infer format, so each element will be parsed individually, falling back to `dateutil`. To ensure parsing is consistent and as-expected, please specify a format.\n",
            "  chunk['transit_timestamp'] = pd.to_datetime(chunk['transit_timestamp'])\n"
          ]
        },
        {
          "name": "stdout",
          "output_type": "stream",
          "text": [
            "Processing MTA chunk 38...\n"
          ]
        },
        {
          "name": "stderr",
          "output_type": "stream",
          "text": [
            "C:\\Users\\pcric\\AppData\\Local\\Temp\\ipykernel_38132\\2888773040.py:9: UserWarning: Could not infer format, so each element will be parsed individually, falling back to `dateutil`. To ensure parsing is consistent and as-expected, please specify a format.\n",
            "  chunk['transit_timestamp'] = pd.to_datetime(chunk['transit_timestamp'])\n"
          ]
        },
        {
          "name": "stdout",
          "output_type": "stream",
          "text": [
            "Processing MTA chunk 39...\n"
          ]
        },
        {
          "name": "stderr",
          "output_type": "stream",
          "text": [
            "C:\\Users\\pcric\\AppData\\Local\\Temp\\ipykernel_38132\\2888773040.py:9: UserWarning: Could not infer format, so each element will be parsed individually, falling back to `dateutil`. To ensure parsing is consistent and as-expected, please specify a format.\n",
            "  chunk['transit_timestamp'] = pd.to_datetime(chunk['transit_timestamp'])\n"
          ]
        },
        {
          "name": "stdout",
          "output_type": "stream",
          "text": [
            "Processing MTA chunk 40...\n"
          ]
        },
        {
          "name": "stderr",
          "output_type": "stream",
          "text": [
            "C:\\Users\\pcric\\AppData\\Local\\Temp\\ipykernel_38132\\2888773040.py:9: UserWarning: Could not infer format, so each element will be parsed individually, falling back to `dateutil`. To ensure parsing is consistent and as-expected, please specify a format.\n",
            "  chunk['transit_timestamp'] = pd.to_datetime(chunk['transit_timestamp'])\n"
          ]
        },
        {
          "name": "stdout",
          "output_type": "stream",
          "text": [
            "Processing MTA chunk 41...\n",
            "Processing MTA chunk 42...\n",
            "Processing MTA chunk 42...\n"
          ]
        },
        {
          "name": "stderr",
          "output_type": "stream",
          "text": [
            "C:\\Users\\pcric\\AppData\\Local\\Temp\\ipykernel_38132\\2888773040.py:9: UserWarning: Could not infer format, so each element will be parsed individually, falling back to `dateutil`. To ensure parsing is consistent and as-expected, please specify a format.\n",
            "  chunk['transit_timestamp'] = pd.to_datetime(chunk['transit_timestamp'])\n"
          ]
        },
        {
          "name": "stdout",
          "output_type": "stream",
          "text": [
            "Processing MTA chunk 43...\n"
          ]
        },
        {
          "name": "stderr",
          "output_type": "stream",
          "text": [
            "C:\\Users\\pcric\\AppData\\Local\\Temp\\ipykernel_38132\\2888773040.py:9: UserWarning: Could not infer format, so each element will be parsed individually, falling back to `dateutil`. To ensure parsing is consistent and as-expected, please specify a format.\n",
            "  chunk['transit_timestamp'] = pd.to_datetime(chunk['transit_timestamp'])\n"
          ]
        },
        {
          "name": "stdout",
          "output_type": "stream",
          "text": [
            "Processing MTA chunk 44...\n"
          ]
        },
        {
          "name": "stderr",
          "output_type": "stream",
          "text": [
            "C:\\Users\\pcric\\AppData\\Local\\Temp\\ipykernel_38132\\2888773040.py:9: UserWarning: Could not infer format, so each element will be parsed individually, falling back to `dateutil`. To ensure parsing is consistent and as-expected, please specify a format.\n",
            "  chunk['transit_timestamp'] = pd.to_datetime(chunk['transit_timestamp'])\n"
          ]
        },
        {
          "name": "stdout",
          "output_type": "stream",
          "text": [
            "Processing MTA chunk 45...\n",
            "Processing MTA chunk 46...\n",
            "Processing MTA chunk 46...\n",
            "Processing MTA chunk 47...\n",
            "Processing MTA chunk 47...\n",
            "Processing MTA chunk 48...\n",
            "Processing MTA chunk 48...\n",
            "Processing MTA chunk 49...\n",
            "Processing MTA chunk 49...\n"
          ]
        },
        {
          "name": "stderr",
          "output_type": "stream",
          "text": [
            "C:\\Users\\pcric\\AppData\\Local\\Temp\\ipykernel_38132\\2888773040.py:9: UserWarning: Could not infer format, so each element will be parsed individually, falling back to `dateutil`. To ensure parsing is consistent and as-expected, please specify a format.\n",
            "  chunk['transit_timestamp'] = pd.to_datetime(chunk['transit_timestamp'])\n"
          ]
        },
        {
          "name": "stdout",
          "output_type": "stream",
          "text": [
            "Processing MTA chunk 50...\n",
            "Processing MTA chunk 51...\n",
            "Processing MTA chunk 51...\n",
            "Processing MTA chunk 52...\n",
            "Processing MTA chunk 52...\n",
            "Processing MTA chunk 53...\n",
            "Processing MTA chunk 53...\n",
            "Processing MTA chunk 54...\n",
            "Processing MTA chunk 54...\n",
            "Processing MTA chunk 55...\n",
            "Processing MTA chunk 55...\n",
            "Processing MTA chunk 56...\n",
            "Processing MTA chunk 56...\n",
            "Processing MTA chunk 57...\n",
            "Processing MTA chunk 57...\n"
          ]
        },
        {
          "name": "stderr",
          "output_type": "stream",
          "text": [
            "C:\\Users\\pcric\\AppData\\Local\\Temp\\ipykernel_38132\\2888773040.py:9: UserWarning: Could not infer format, so each element will be parsed individually, falling back to `dateutil`. To ensure parsing is consistent and as-expected, please specify a format.\n",
            "  chunk['transit_timestamp'] = pd.to_datetime(chunk['transit_timestamp'])\n"
          ]
        },
        {
          "name": "stdout",
          "output_type": "stream",
          "text": [
            "Processing MTA chunk 58...\n",
            "Processing MTA chunk 59...\n",
            "Processing MTA chunk 59...\n",
            "Processing MTA chunk 60...\n",
            "Processing MTA chunk 60...\n",
            "Processing MTA chunk 61...\n",
            "Processing MTA chunk 61...\n",
            "Processing MTA chunk 62...\n",
            "Processing MTA chunk 62...\n"
          ]
        },
        {
          "name": "stderr",
          "output_type": "stream",
          "text": [
            "C:\\Users\\pcric\\AppData\\Local\\Temp\\ipykernel_38132\\2888773040.py:9: UserWarning: Could not infer format, so each element will be parsed individually, falling back to `dateutil`. To ensure parsing is consistent and as-expected, please specify a format.\n",
            "  chunk['transit_timestamp'] = pd.to_datetime(chunk['transit_timestamp'])\n"
          ]
        },
        {
          "name": "stdout",
          "output_type": "stream",
          "text": [
            "Processing MTA chunk 63...\n"
          ]
        },
        {
          "name": "stderr",
          "output_type": "stream",
          "text": [
            "C:\\Users\\pcric\\AppData\\Local\\Temp\\ipykernel_38132\\2888773040.py:9: UserWarning: Could not infer format, so each element will be parsed individually, falling back to `dateutil`. To ensure parsing is consistent and as-expected, please specify a format.\n",
            "  chunk['transit_timestamp'] = pd.to_datetime(chunk['transit_timestamp'])\n"
          ]
        },
        {
          "name": "stdout",
          "output_type": "stream",
          "text": [
            "Processing MTA chunk 64...\n",
            "Processing MTA chunk 65...\n",
            "Processing MTA chunk 65...\n"
          ]
        },
        {
          "name": "stderr",
          "output_type": "stream",
          "text": [
            "C:\\Users\\pcric\\AppData\\Local\\Temp\\ipykernel_38132\\2888773040.py:9: UserWarning: Could not infer format, so each element will be parsed individually, falling back to `dateutil`. To ensure parsing is consistent and as-expected, please specify a format.\n",
            "  chunk['transit_timestamp'] = pd.to_datetime(chunk['transit_timestamp'])\n"
          ]
        },
        {
          "name": "stdout",
          "output_type": "stream",
          "text": [
            "Processing MTA chunk 66...\n"
          ]
        },
        {
          "name": "stderr",
          "output_type": "stream",
          "text": [
            "C:\\Users\\pcric\\AppData\\Local\\Temp\\ipykernel_38132\\2888773040.py:9: UserWarning: Could not infer format, so each element will be parsed individually, falling back to `dateutil`. To ensure parsing is consistent and as-expected, please specify a format.\n",
            "  chunk['transit_timestamp'] = pd.to_datetime(chunk['transit_timestamp'])\n"
          ]
        },
        {
          "name": "stdout",
          "output_type": "stream",
          "text": [
            "Processing MTA chunk 67...\n",
            "Processing MTA chunk 68...\n",
            "Processing MTA chunk 68...\n",
            "Processing MTA chunk 69...\n",
            "Processing MTA chunk 69...\n",
            "Processing MTA chunk 70...\n",
            "Processing MTA chunk 70...\n"
          ]
        },
        {
          "name": "stderr",
          "output_type": "stream",
          "text": [
            "C:\\Users\\pcric\\AppData\\Local\\Temp\\ipykernel_38132\\2888773040.py:9: UserWarning: Could not infer format, so each element will be parsed individually, falling back to `dateutil`. To ensure parsing is consistent and as-expected, please specify a format.\n",
            "  chunk['transit_timestamp'] = pd.to_datetime(chunk['transit_timestamp'])\n"
          ]
        },
        {
          "name": "stdout",
          "output_type": "stream",
          "text": [
            "Processing MTA chunk 71...\n"
          ]
        },
        {
          "name": "stderr",
          "output_type": "stream",
          "text": [
            "C:\\Users\\pcric\\AppData\\Local\\Temp\\ipykernel_38132\\2888773040.py:9: UserWarning: Could not infer format, so each element will be parsed individually, falling back to `dateutil`. To ensure parsing is consistent and as-expected, please specify a format.\n",
            "  chunk['transit_timestamp'] = pd.to_datetime(chunk['transit_timestamp'])\n"
          ]
        },
        {
          "name": "stdout",
          "output_type": "stream",
          "text": [
            "Processing MTA chunk 72...\n"
          ]
        },
        {
          "name": "stderr",
          "output_type": "stream",
          "text": [
            "C:\\Users\\pcric\\AppData\\Local\\Temp\\ipykernel_38132\\2888773040.py:9: UserWarning: Could not infer format, so each element will be parsed individually, falling back to `dateutil`. To ensure parsing is consistent and as-expected, please specify a format.\n",
            "  chunk['transit_timestamp'] = pd.to_datetime(chunk['transit_timestamp'])\n"
          ]
        },
        {
          "name": "stdout",
          "output_type": "stream",
          "text": [
            "Processing MTA chunk 73...\n",
            "Processing MTA chunk 74...\n",
            "Processing MTA chunk 74...\n",
            "Processing MTA chunk 75...\n",
            "Processing MTA chunk 75...\n"
          ]
        },
        {
          "name": "stderr",
          "output_type": "stream",
          "text": [
            "C:\\Users\\pcric\\AppData\\Local\\Temp\\ipykernel_38132\\2888773040.py:9: UserWarning: Could not infer format, so each element will be parsed individually, falling back to `dateutil`. To ensure parsing is consistent and as-expected, please specify a format.\n",
            "  chunk['transit_timestamp'] = pd.to_datetime(chunk['transit_timestamp'])\n"
          ]
        },
        {
          "name": "stdout",
          "output_type": "stream",
          "text": [
            "Processing MTA chunk 76...\n"
          ]
        },
        {
          "name": "stderr",
          "output_type": "stream",
          "text": [
            "C:\\Users\\pcric\\AppData\\Local\\Temp\\ipykernel_38132\\2888773040.py:9: UserWarning: Could not infer format, so each element will be parsed individually, falling back to `dateutil`. To ensure parsing is consistent and as-expected, please specify a format.\n",
            "  chunk['transit_timestamp'] = pd.to_datetime(chunk['transit_timestamp'])\n"
          ]
        },
        {
          "name": "stdout",
          "output_type": "stream",
          "text": [
            "Processing MTA chunk 77...\n"
          ]
        },
        {
          "name": "stderr",
          "output_type": "stream",
          "text": [
            "C:\\Users\\pcric\\AppData\\Local\\Temp\\ipykernel_38132\\2888773040.py:9: UserWarning: Could not infer format, so each element will be parsed individually, falling back to `dateutil`. To ensure parsing is consistent and as-expected, please specify a format.\n",
            "  chunk['transit_timestamp'] = pd.to_datetime(chunk['transit_timestamp'])\n"
          ]
        },
        {
          "name": "stdout",
          "output_type": "stream",
          "text": [
            "Processing MTA chunk 78...\n",
            "Processing MTA chunk 79...\n",
            "Processing MTA chunk 79...\n",
            "Processing MTA chunk 80...\n",
            "Processing MTA chunk 80...\n",
            "Processing MTA chunk 81...\n",
            "Processing MTA chunk 81...\n",
            "Processing MTA chunk 82...\n",
            "Processing MTA chunk 82...\n",
            "Processing MTA chunk 83...\n",
            "Processing MTA chunk 83...\n",
            "Processing MTA chunk 84...\n",
            "Processing MTA chunk 84...\n",
            "Processing MTA chunk 85...\n",
            "Processing MTA chunk 85...\n",
            "Processing MTA chunk 86...\n",
            "Processing MTA chunk 86...\n"
          ]
        },
        {
          "name": "stderr",
          "output_type": "stream",
          "text": [
            "C:\\Users\\pcric\\AppData\\Local\\Temp\\ipykernel_38132\\2888773040.py:9: UserWarning: Could not infer format, so each element will be parsed individually, falling back to `dateutil`. To ensure parsing is consistent and as-expected, please specify a format.\n",
            "  chunk['transit_timestamp'] = pd.to_datetime(chunk['transit_timestamp'])\n"
          ]
        },
        {
          "name": "stdout",
          "output_type": "stream",
          "text": [
            "Processing MTA chunk 87...\n"
          ]
        },
        {
          "name": "stderr",
          "output_type": "stream",
          "text": [
            "C:\\Users\\pcric\\AppData\\Local\\Temp\\ipykernel_38132\\2888773040.py:9: UserWarning: Could not infer format, so each element will be parsed individually, falling back to `dateutil`. To ensure parsing is consistent and as-expected, please specify a format.\n",
            "  chunk['transit_timestamp'] = pd.to_datetime(chunk['transit_timestamp'])\n"
          ]
        },
        {
          "name": "stdout",
          "output_type": "stream",
          "text": [
            "Processing MTA chunk 88...\n"
          ]
        },
        {
          "name": "stderr",
          "output_type": "stream",
          "text": [
            "C:\\Users\\pcric\\AppData\\Local\\Temp\\ipykernel_38132\\2888773040.py:9: UserWarning: Could not infer format, so each element will be parsed individually, falling back to `dateutil`. To ensure parsing is consistent and as-expected, please specify a format.\n",
            "  chunk['transit_timestamp'] = pd.to_datetime(chunk['transit_timestamp'])\n"
          ]
        },
        {
          "name": "stdout",
          "output_type": "stream",
          "text": [
            "Processing MTA chunk 89...\n",
            "Processing MTA chunk 90...\n",
            "Processing MTA chunk 90...\n"
          ]
        },
        {
          "name": "stderr",
          "output_type": "stream",
          "text": [
            "C:\\Users\\pcric\\AppData\\Local\\Temp\\ipykernel_38132\\2888773040.py:9: UserWarning: Could not infer format, so each element will be parsed individually, falling back to `dateutil`. To ensure parsing is consistent and as-expected, please specify a format.\n",
            "  chunk['transit_timestamp'] = pd.to_datetime(chunk['transit_timestamp'])\n"
          ]
        },
        {
          "name": "stdout",
          "output_type": "stream",
          "text": [
            "Processing MTA chunk 91...\n",
            "Processing MTA chunk 92...\n",
            "Processing MTA chunk 92...\n",
            "Processing MTA chunk 93...\n",
            "Processing MTA chunk 93...\n",
            "Processing MTA chunk 94...\n",
            "Processing MTA chunk 94...\n",
            "Processing MTA chunk 95...\n",
            "Processing MTA chunk 95...\n",
            "Processing MTA chunk 96...\n",
            "Processing MTA chunk 96...\n"
          ]
        },
        {
          "name": "stderr",
          "output_type": "stream",
          "text": [
            "C:\\Users\\pcric\\AppData\\Local\\Temp\\ipykernel_38132\\2888773040.py:9: UserWarning: Could not infer format, so each element will be parsed individually, falling back to `dateutil`. To ensure parsing is consistent and as-expected, please specify a format.\n",
            "  chunk['transit_timestamp'] = pd.to_datetime(chunk['transit_timestamp'])\n"
          ]
        },
        {
          "name": "stdout",
          "output_type": "stream",
          "text": [
            "Processing MTA chunk 97...\n"
          ]
        },
        {
          "name": "stderr",
          "output_type": "stream",
          "text": [
            "C:\\Users\\pcric\\AppData\\Local\\Temp\\ipykernel_38132\\2888773040.py:9: UserWarning: Could not infer format, so each element will be parsed individually, falling back to `dateutil`. To ensure parsing is consistent and as-expected, please specify a format.\n",
            "  chunk['transit_timestamp'] = pd.to_datetime(chunk['transit_timestamp'])\n"
          ]
        },
        {
          "name": "stdout",
          "output_type": "stream",
          "text": [
            "Processing MTA chunk 98...\n",
            "Processing MTA chunk 99...\n",
            "Processing MTA chunk 99...\n",
            "Processing MTA chunk 100...\n",
            "Processing MTA chunk 100...\n",
            "Processing MTA chunk 101...\n",
            "Processing MTA chunk 101...\n"
          ]
        },
        {
          "name": "stderr",
          "output_type": "stream",
          "text": [
            "C:\\Users\\pcric\\AppData\\Local\\Temp\\ipykernel_38132\\2888773040.py:9: UserWarning: Could not infer format, so each element will be parsed individually, falling back to `dateutil`. To ensure parsing is consistent and as-expected, please specify a format.\n",
            "  chunk['transit_timestamp'] = pd.to_datetime(chunk['transit_timestamp'])\n"
          ]
        },
        {
          "name": "stdout",
          "output_type": "stream",
          "text": [
            "Processing MTA chunk 102...\n",
            "Processing MTA chunk 103...\n",
            "Processing MTA chunk 103...\n"
          ]
        },
        {
          "name": "stderr",
          "output_type": "stream",
          "text": [
            "C:\\Users\\pcric\\AppData\\Local\\Temp\\ipykernel_38132\\2888773040.py:9: UserWarning: Could not infer format, so each element will be parsed individually, falling back to `dateutil`. To ensure parsing is consistent and as-expected, please specify a format.\n",
            "  chunk['transit_timestamp'] = pd.to_datetime(chunk['transit_timestamp'])\n"
          ]
        },
        {
          "name": "stdout",
          "output_type": "stream",
          "text": [
            "Processing MTA chunk 104...\n",
            "Processing MTA chunk 105...\n",
            "Processing MTA chunk 105...\n"
          ]
        },
        {
          "name": "stderr",
          "output_type": "stream",
          "text": [
            "C:\\Users\\pcric\\AppData\\Local\\Temp\\ipykernel_38132\\2888773040.py:9: UserWarning: Could not infer format, so each element will be parsed individually, falling back to `dateutil`. To ensure parsing is consistent and as-expected, please specify a format.\n",
            "  chunk['transit_timestamp'] = pd.to_datetime(chunk['transit_timestamp'])\n"
          ]
        },
        {
          "name": "stdout",
          "output_type": "stream",
          "text": [
            "Processing MTA chunk 106...\n",
            "Processing MTA chunk 107...\n",
            "Processing MTA chunk 107...\n"
          ]
        },
        {
          "name": "stderr",
          "output_type": "stream",
          "text": [
            "C:\\Users\\pcric\\AppData\\Local\\Temp\\ipykernel_38132\\2888773040.py:9: UserWarning: Could not infer format, so each element will be parsed individually, falling back to `dateutil`. To ensure parsing is consistent and as-expected, please specify a format.\n",
            "  chunk['transit_timestamp'] = pd.to_datetime(chunk['transit_timestamp'])\n"
          ]
        },
        {
          "name": "stdout",
          "output_type": "stream",
          "text": [
            "Processing MTA chunk 108...\n",
            "Processing MTA chunk 109...\n",
            "Processing MTA chunk 109...\n",
            "Processing MTA chunk 110...\n",
            "Processing MTA chunk 110...\n"
          ]
        },
        {
          "name": "stderr",
          "output_type": "stream",
          "text": [
            "C:\\Users\\pcric\\AppData\\Local\\Temp\\ipykernel_38132\\2888773040.py:9: UserWarning: Could not infer format, so each element will be parsed individually, falling back to `dateutil`. To ensure parsing is consistent and as-expected, please specify a format.\n",
            "  chunk['transit_timestamp'] = pd.to_datetime(chunk['transit_timestamp'])\n"
          ]
        },
        {
          "name": "stdout",
          "output_type": "stream",
          "text": [
            "Processing MTA chunk 111...\n"
          ]
        },
        {
          "name": "stderr",
          "output_type": "stream",
          "text": [
            "C:\\Users\\pcric\\AppData\\Local\\Temp\\ipykernel_38132\\2888773040.py:9: UserWarning: Could not infer format, so each element will be parsed individually, falling back to `dateutil`. To ensure parsing is consistent and as-expected, please specify a format.\n",
            "  chunk['transit_timestamp'] = pd.to_datetime(chunk['transit_timestamp'])\n"
          ]
        },
        {
          "name": "stdout",
          "output_type": "stream",
          "text": [
            "Processing MTA chunk 112...\n"
          ]
        },
        {
          "name": "stderr",
          "output_type": "stream",
          "text": [
            "C:\\Users\\pcric\\AppData\\Local\\Temp\\ipykernel_38132\\2888773040.py:9: UserWarning: Could not infer format, so each element will be parsed individually, falling back to `dateutil`. To ensure parsing is consistent and as-expected, please specify a format.\n",
            "  chunk['transit_timestamp'] = pd.to_datetime(chunk['transit_timestamp'])\n"
          ]
        },
        {
          "name": "stdout",
          "output_type": "stream",
          "text": [
            "Processing MTA chunk 113...\n",
            "Processing MTA chunk 114...\n",
            "Processing MTA chunk 114...\n",
            "Processing MTA chunk 115...\n",
            "Processing MTA chunk 115...\n"
          ]
        },
        {
          "name": "stderr",
          "output_type": "stream",
          "text": [
            "C:\\Users\\pcric\\AppData\\Local\\Temp\\ipykernel_38132\\2888773040.py:9: UserWarning: Could not infer format, so each element will be parsed individually, falling back to `dateutil`. To ensure parsing is consistent and as-expected, please specify a format.\n",
            "  chunk['transit_timestamp'] = pd.to_datetime(chunk['transit_timestamp'])\n"
          ]
        },
        {
          "name": "stdout",
          "output_type": "stream",
          "text": [
            "Processing MTA chunk 116...\n",
            "Processing MTA chunk 117...\n",
            "Processing MTA chunk 117...\n"
          ]
        },
        {
          "name": "stderr",
          "output_type": "stream",
          "text": [
            "C:\\Users\\pcric\\AppData\\Local\\Temp\\ipykernel_38132\\2888773040.py:9: UserWarning: Could not infer format, so each element will be parsed individually, falling back to `dateutil`. To ensure parsing is consistent and as-expected, please specify a format.\n",
            "  chunk['transit_timestamp'] = pd.to_datetime(chunk['transit_timestamp'])\n"
          ]
        },
        {
          "name": "stdout",
          "output_type": "stream",
          "text": [
            "Processing MTA chunk 118...\n",
            "Processing MTA chunk 119...\n",
            "Processing MTA chunk 119...\n",
            "Processing MTA chunk 120...\n",
            "Processing MTA chunk 120...\n"
          ]
        },
        {
          "name": "stderr",
          "output_type": "stream",
          "text": [
            "C:\\Users\\pcric\\AppData\\Local\\Temp\\ipykernel_38132\\2888773040.py:9: UserWarning: Could not infer format, so each element will be parsed individually, falling back to `dateutil`. To ensure parsing is consistent and as-expected, please specify a format.\n",
            "  chunk['transit_timestamp'] = pd.to_datetime(chunk['transit_timestamp'])\n"
          ]
        },
        {
          "name": "stdout",
          "output_type": "stream",
          "text": [
            "Processing MTA chunk 121...\n",
            "Processing MTA chunk 122...\n",
            "Processing MTA chunk 122...\n"
          ]
        },
        {
          "name": "stderr",
          "output_type": "stream",
          "text": [
            "C:\\Users\\pcric\\AppData\\Local\\Temp\\ipykernel_38132\\2888773040.py:9: UserWarning: Could not infer format, so each element will be parsed individually, falling back to `dateutil`. To ensure parsing is consistent and as-expected, please specify a format.\n",
            "  chunk['transit_timestamp'] = pd.to_datetime(chunk['transit_timestamp'])\n"
          ]
        },
        {
          "name": "stdout",
          "output_type": "stream",
          "text": [
            "Processing MTA chunk 123...\n"
          ]
        },
        {
          "name": "stderr",
          "output_type": "stream",
          "text": [
            "C:\\Users\\pcric\\AppData\\Local\\Temp\\ipykernel_38132\\2888773040.py:9: UserWarning: Could not infer format, so each element will be parsed individually, falling back to `dateutil`. To ensure parsing is consistent and as-expected, please specify a format.\n",
            "  chunk['transit_timestamp'] = pd.to_datetime(chunk['transit_timestamp'])\n"
          ]
        },
        {
          "name": "stdout",
          "output_type": "stream",
          "text": [
            "Processing MTA chunk 124...\n"
          ]
        },
        {
          "name": "stderr",
          "output_type": "stream",
          "text": [
            "C:\\Users\\pcric\\AppData\\Local\\Temp\\ipykernel_38132\\2888773040.py:9: UserWarning: Could not infer format, so each element will be parsed individually, falling back to `dateutil`. To ensure parsing is consistent and as-expected, please specify a format.\n",
            "  chunk['transit_timestamp'] = pd.to_datetime(chunk['transit_timestamp'])\n"
          ]
        },
        {
          "name": "stdout",
          "output_type": "stream",
          "text": [
            "Processing MTA chunk 125...\n"
          ]
        },
        {
          "name": "stderr",
          "output_type": "stream",
          "text": [
            "C:\\Users\\pcric\\AppData\\Local\\Temp\\ipykernel_38132\\2888773040.py:9: UserWarning: Could not infer format, so each element will be parsed individually, falling back to `dateutil`. To ensure parsing is consistent and as-expected, please specify a format.\n",
            "  chunk['transit_timestamp'] = pd.to_datetime(chunk['transit_timestamp'])\n"
          ]
        },
        {
          "name": "stdout",
          "output_type": "stream",
          "text": [
            "Processing MTA chunk 126...\n",
            "Processing MTA chunk 127...\n",
            "Processing MTA chunk 127...\n"
          ]
        },
        {
          "name": "stderr",
          "output_type": "stream",
          "text": [
            "C:\\Users\\pcric\\AppData\\Local\\Temp\\ipykernel_38132\\2888773040.py:9: UserWarning: Could not infer format, so each element will be parsed individually, falling back to `dateutil`. To ensure parsing is consistent and as-expected, please specify a format.\n",
            "  chunk['transit_timestamp'] = pd.to_datetime(chunk['transit_timestamp'])\n"
          ]
        },
        {
          "name": "stdout",
          "output_type": "stream",
          "text": [
            "Processing MTA chunk 128...\n"
          ]
        },
        {
          "name": "stderr",
          "output_type": "stream",
          "text": [
            "C:\\Users\\pcric\\AppData\\Local\\Temp\\ipykernel_38132\\2888773040.py:9: UserWarning: Could not infer format, so each element will be parsed individually, falling back to `dateutil`. To ensure parsing is consistent and as-expected, please specify a format.\n",
            "  chunk['transit_timestamp'] = pd.to_datetime(chunk['transit_timestamp'])\n"
          ]
        },
        {
          "name": "stdout",
          "output_type": "stream",
          "text": [
            "Processing MTA chunk 129...\n"
          ]
        },
        {
          "name": "stderr",
          "output_type": "stream",
          "text": [
            "C:\\Users\\pcric\\AppData\\Local\\Temp\\ipykernel_38132\\2888773040.py:9: UserWarning: Could not infer format, so each element will be parsed individually, falling back to `dateutil`. To ensure parsing is consistent and as-expected, please specify a format.\n",
            "  chunk['transit_timestamp'] = pd.to_datetime(chunk['transit_timestamp'])\n"
          ]
        },
        {
          "name": "stdout",
          "output_type": "stream",
          "text": [
            "Processing MTA chunk 130...\n"
          ]
        },
        {
          "name": "stderr",
          "output_type": "stream",
          "text": [
            "C:\\Users\\pcric\\AppData\\Local\\Temp\\ipykernel_38132\\2888773040.py:9: UserWarning: Could not infer format, so each element will be parsed individually, falling back to `dateutil`. To ensure parsing is consistent and as-expected, please specify a format.\n",
            "  chunk['transit_timestamp'] = pd.to_datetime(chunk['transit_timestamp'])\n"
          ]
        },
        {
          "name": "stdout",
          "output_type": "stream",
          "text": [
            "Processing MTA chunk 131...\n"
          ]
        },
        {
          "name": "stderr",
          "output_type": "stream",
          "text": [
            "C:\\Users\\pcric\\AppData\\Local\\Temp\\ipykernel_38132\\2888773040.py:9: UserWarning: Could not infer format, so each element will be parsed individually, falling back to `dateutil`. To ensure parsing is consistent and as-expected, please specify a format.\n",
            "  chunk['transit_timestamp'] = pd.to_datetime(chunk['transit_timestamp'])\n"
          ]
        },
        {
          "name": "stdout",
          "output_type": "stream",
          "text": [
            "Processing MTA chunk 132...\n"
          ]
        },
        {
          "name": "stderr",
          "output_type": "stream",
          "text": [
            "C:\\Users\\pcric\\AppData\\Local\\Temp\\ipykernel_38132\\2888773040.py:9: UserWarning: Could not infer format, so each element will be parsed individually, falling back to `dateutil`. To ensure parsing is consistent and as-expected, please specify a format.\n",
            "  chunk['transit_timestamp'] = pd.to_datetime(chunk['transit_timestamp'])\n"
          ]
        },
        {
          "name": "stdout",
          "output_type": "stream",
          "text": [
            "Processing MTA chunk 133...\n"
          ]
        },
        {
          "name": "stderr",
          "output_type": "stream",
          "text": [
            "C:\\Users\\pcric\\AppData\\Local\\Temp\\ipykernel_38132\\2888773040.py:9: UserWarning: Could not infer format, so each element will be parsed individually, falling back to `dateutil`. To ensure parsing is consistent and as-expected, please specify a format.\n",
            "  chunk['transit_timestamp'] = pd.to_datetime(chunk['transit_timestamp'])\n"
          ]
        },
        {
          "name": "stdout",
          "output_type": "stream",
          "text": [
            "Processing MTA chunk 134...\n",
            "Processing MTA chunk 135...\n",
            "Processing MTA chunk 135...\n",
            "Processing MTA chunk 136...\n",
            "Processing MTA chunk 136...\n"
          ]
        },
        {
          "name": "stderr",
          "output_type": "stream",
          "text": [
            "C:\\Users\\pcric\\AppData\\Local\\Temp\\ipykernel_38132\\2888773040.py:9: UserWarning: Could not infer format, so each element will be parsed individually, falling back to `dateutil`. To ensure parsing is consistent and as-expected, please specify a format.\n",
            "  chunk['transit_timestamp'] = pd.to_datetime(chunk['transit_timestamp'])\n"
          ]
        },
        {
          "name": "stdout",
          "output_type": "stream",
          "text": [
            "Processing MTA chunk 137...\n",
            "Processing MTA chunk 138...\n",
            "Processing MTA chunk 138...\n"
          ]
        },
        {
          "name": "stderr",
          "output_type": "stream",
          "text": [
            "C:\\Users\\pcric\\AppData\\Local\\Temp\\ipykernel_38132\\2888773040.py:9: UserWarning: Could not infer format, so each element will be parsed individually, falling back to `dateutil`. To ensure parsing is consistent and as-expected, please specify a format.\n",
            "  chunk['transit_timestamp'] = pd.to_datetime(chunk['transit_timestamp'])\n"
          ]
        },
        {
          "name": "stdout",
          "output_type": "stream",
          "text": [
            "Processing MTA chunk 139...\n",
            "Processing MTA chunk 140...\n",
            "Processing MTA chunk 140...\n",
            "Processing MTA chunk 141...\n",
            "Processing MTA chunk 141...\n"
          ]
        },
        {
          "name": "stderr",
          "output_type": "stream",
          "text": [
            "C:\\Users\\pcric\\AppData\\Local\\Temp\\ipykernel_38132\\2888773040.py:9: UserWarning: Could not infer format, so each element will be parsed individually, falling back to `dateutil`. To ensure parsing is consistent and as-expected, please specify a format.\n",
            "  chunk['transit_timestamp'] = pd.to_datetime(chunk['transit_timestamp'])\n"
          ]
        },
        {
          "name": "stdout",
          "output_type": "stream",
          "text": [
            "Processing MTA chunk 142...\n",
            "Processing MTA chunk 143...\n",
            "Processing MTA chunk 143...\n",
            "Processing MTA chunk 144...\n",
            "Processing MTA chunk 144...\n"
          ]
        },
        {
          "name": "stderr",
          "output_type": "stream",
          "text": [
            "C:\\Users\\pcric\\AppData\\Local\\Temp\\ipykernel_38132\\2888773040.py:9: UserWarning: Could not infer format, so each element will be parsed individually, falling back to `dateutil`. To ensure parsing is consistent and as-expected, please specify a format.\n",
            "  chunk['transit_timestamp'] = pd.to_datetime(chunk['transit_timestamp'])\n"
          ]
        },
        {
          "name": "stdout",
          "output_type": "stream",
          "text": [
            "Processing MTA chunk 145...\n"
          ]
        },
        {
          "name": "stderr",
          "output_type": "stream",
          "text": [
            "C:\\Users\\pcric\\AppData\\Local\\Temp\\ipykernel_38132\\2888773040.py:9: UserWarning: Could not infer format, so each element will be parsed individually, falling back to `dateutil`. To ensure parsing is consistent and as-expected, please specify a format.\n",
            "  chunk['transit_timestamp'] = pd.to_datetime(chunk['transit_timestamp'])\n"
          ]
        },
        {
          "name": "stdout",
          "output_type": "stream",
          "text": [
            "Processing MTA chunk 146...\n",
            "Processing MTA chunk 147...\n",
            "Processing MTA chunk 147...\n"
          ]
        },
        {
          "name": "stderr",
          "output_type": "stream",
          "text": [
            "C:\\Users\\pcric\\AppData\\Local\\Temp\\ipykernel_38132\\2888773040.py:9: UserWarning: Could not infer format, so each element will be parsed individually, falling back to `dateutil`. To ensure parsing is consistent and as-expected, please specify a format.\n",
            "  chunk['transit_timestamp'] = pd.to_datetime(chunk['transit_timestamp'])\n"
          ]
        },
        {
          "name": "stdout",
          "output_type": "stream",
          "text": [
            "Processing MTA chunk 148...\n",
            "Processing MTA chunk 149...\n",
            "Processing MTA chunk 149...\n"
          ]
        },
        {
          "name": "stderr",
          "output_type": "stream",
          "text": [
            "C:\\Users\\pcric\\AppData\\Local\\Temp\\ipykernel_38132\\2888773040.py:9: UserWarning: Could not infer format, so each element will be parsed individually, falling back to `dateutil`. To ensure parsing is consistent and as-expected, please specify a format.\n",
            "  chunk['transit_timestamp'] = pd.to_datetime(chunk['transit_timestamp'])\n"
          ]
        },
        {
          "name": "stdout",
          "output_type": "stream",
          "text": [
            "Processing MTA chunk 150...\n"
          ]
        },
        {
          "name": "stderr",
          "output_type": "stream",
          "text": [
            "C:\\Users\\pcric\\AppData\\Local\\Temp\\ipykernel_38132\\2888773040.py:9: UserWarning: Could not infer format, so each element will be parsed individually, falling back to `dateutil`. To ensure parsing is consistent and as-expected, please specify a format.\n",
            "  chunk['transit_timestamp'] = pd.to_datetime(chunk['transit_timestamp'])\n"
          ]
        },
        {
          "name": "stdout",
          "output_type": "stream",
          "text": [
            "Processing MTA chunk 151...\n"
          ]
        },
        {
          "name": "stderr",
          "output_type": "stream",
          "text": [
            "C:\\Users\\pcric\\AppData\\Local\\Temp\\ipykernel_38132\\2888773040.py:9: UserWarning: Could not infer format, so each element will be parsed individually, falling back to `dateutil`. To ensure parsing is consistent and as-expected, please specify a format.\n",
            "  chunk['transit_timestamp'] = pd.to_datetime(chunk['transit_timestamp'])\n"
          ]
        },
        {
          "name": "stdout",
          "output_type": "stream",
          "text": [
            "Processing MTA chunk 152...\n",
            "Processing MTA chunk 153...\n",
            "Processing MTA chunk 153...\n"
          ]
        },
        {
          "name": "stderr",
          "output_type": "stream",
          "text": [
            "C:\\Users\\pcric\\AppData\\Local\\Temp\\ipykernel_38132\\2888773040.py:9: UserWarning: Could not infer format, so each element will be parsed individually, falling back to `dateutil`. To ensure parsing is consistent and as-expected, please specify a format.\n",
            "  chunk['transit_timestamp'] = pd.to_datetime(chunk['transit_timestamp'])\n"
          ]
        },
        {
          "name": "stdout",
          "output_type": "stream",
          "text": [
            "Processing MTA chunk 154...\n",
            "Processing MTA chunk 155...\n",
            "Processing MTA chunk 155...\n"
          ]
        },
        {
          "name": "stderr",
          "output_type": "stream",
          "text": [
            "C:\\Users\\pcric\\AppData\\Local\\Temp\\ipykernel_38132\\2888773040.py:9: UserWarning: Could not infer format, so each element will be parsed individually, falling back to `dateutil`. To ensure parsing is consistent and as-expected, please specify a format.\n",
            "  chunk['transit_timestamp'] = pd.to_datetime(chunk['transit_timestamp'])\n"
          ]
        },
        {
          "name": "stdout",
          "output_type": "stream",
          "text": [
            "Processing MTA chunk 156...\n",
            "Processing MTA chunk 157...\n",
            "Processing MTA chunk 157...\n",
            "Processing MTA chunk 158...\n",
            "Processing MTA chunk 158...\n",
            "Processing MTA chunk 159...\n",
            "Processing MTA chunk 159...\n"
          ]
        },
        {
          "name": "stderr",
          "output_type": "stream",
          "text": [
            "C:\\Users\\pcric\\AppData\\Local\\Temp\\ipykernel_38132\\2888773040.py:9: UserWarning: Could not infer format, so each element will be parsed individually, falling back to `dateutil`. To ensure parsing is consistent and as-expected, please specify a format.\n",
            "  chunk['transit_timestamp'] = pd.to_datetime(chunk['transit_timestamp'])\n"
          ]
        },
        {
          "name": "stdout",
          "output_type": "stream",
          "text": [
            "Processing MTA chunk 160...\n"
          ]
        },
        {
          "name": "stderr",
          "output_type": "stream",
          "text": [
            "C:\\Users\\pcric\\AppData\\Local\\Temp\\ipykernel_38132\\2888773040.py:9: UserWarning: Could not infer format, so each element will be parsed individually, falling back to `dateutil`. To ensure parsing is consistent and as-expected, please specify a format.\n",
            "  chunk['transit_timestamp'] = pd.to_datetime(chunk['transit_timestamp'])\n"
          ]
        },
        {
          "name": "stdout",
          "output_type": "stream",
          "text": [
            "Processing MTA chunk 161...\n"
          ]
        },
        {
          "name": "stderr",
          "output_type": "stream",
          "text": [
            "C:\\Users\\pcric\\AppData\\Local\\Temp\\ipykernel_38132\\2888773040.py:9: UserWarning: Could not infer format, so each element will be parsed individually, falling back to `dateutil`. To ensure parsing is consistent and as-expected, please specify a format.\n",
            "  chunk['transit_timestamp'] = pd.to_datetime(chunk['transit_timestamp'])\n"
          ]
        },
        {
          "name": "stdout",
          "output_type": "stream",
          "text": [
            "Processing MTA chunk 162...\n",
            "Processing MTA chunk 163...\n",
            "Processing MTA chunk 163...\n"
          ]
        },
        {
          "name": "stderr",
          "output_type": "stream",
          "text": [
            "C:\\Users\\pcric\\AppData\\Local\\Temp\\ipykernel_38132\\2888773040.py:9: UserWarning: Could not infer format, so each element will be parsed individually, falling back to `dateutil`. To ensure parsing is consistent and as-expected, please specify a format.\n",
            "  chunk['transit_timestamp'] = pd.to_datetime(chunk['transit_timestamp'])\n"
          ]
        },
        {
          "name": "stdout",
          "output_type": "stream",
          "text": [
            "Processing MTA chunk 164...\n"
          ]
        },
        {
          "name": "stderr",
          "output_type": "stream",
          "text": [
            "C:\\Users\\pcric\\AppData\\Local\\Temp\\ipykernel_38132\\2888773040.py:9: UserWarning: Could not infer format, so each element will be parsed individually, falling back to `dateutil`. To ensure parsing is consistent and as-expected, please specify a format.\n",
            "  chunk['transit_timestamp'] = pd.to_datetime(chunk['transit_timestamp'])\n"
          ]
        },
        {
          "name": "stdout",
          "output_type": "stream",
          "text": [
            "Processing MTA chunk 165...\n",
            "Processing MTA chunk 166...\n",
            "Processing MTA chunk 166...\n",
            "Processing MTA chunk 167...\n",
            "Processing MTA chunk 167...\n"
          ]
        },
        {
          "name": "stderr",
          "output_type": "stream",
          "text": [
            "C:\\Users\\pcric\\AppData\\Local\\Temp\\ipykernel_38132\\2888773040.py:9: UserWarning: Could not infer format, so each element will be parsed individually, falling back to `dateutil`. To ensure parsing is consistent and as-expected, please specify a format.\n",
            "  chunk['transit_timestamp'] = pd.to_datetime(chunk['transit_timestamp'])\n"
          ]
        },
        {
          "name": "stdout",
          "output_type": "stream",
          "text": [
            "Processing MTA chunk 168...\n"
          ]
        },
        {
          "name": "stderr",
          "output_type": "stream",
          "text": [
            "C:\\Users\\pcric\\AppData\\Local\\Temp\\ipykernel_38132\\2888773040.py:9: UserWarning: Could not infer format, so each element will be parsed individually, falling back to `dateutil`. To ensure parsing is consistent and as-expected, please specify a format.\n",
            "  chunk['transit_timestamp'] = pd.to_datetime(chunk['transit_timestamp'])\n"
          ]
        },
        {
          "name": "stdout",
          "output_type": "stream",
          "text": [
            "Processing MTA chunk 169...\n",
            "Processing MTA chunk 170...\n",
            "Processing MTA chunk 170...\n"
          ]
        },
        {
          "name": "stderr",
          "output_type": "stream",
          "text": [
            "C:\\Users\\pcric\\AppData\\Local\\Temp\\ipykernel_38132\\2888773040.py:9: UserWarning: Could not infer format, so each element will be parsed individually, falling back to `dateutil`. To ensure parsing is consistent and as-expected, please specify a format.\n",
            "  chunk['transit_timestamp'] = pd.to_datetime(chunk['transit_timestamp'])\n"
          ]
        },
        {
          "name": "stdout",
          "output_type": "stream",
          "text": [
            "Processing MTA chunk 171...\n"
          ]
        },
        {
          "name": "stderr",
          "output_type": "stream",
          "text": [
            "C:\\Users\\pcric\\AppData\\Local\\Temp\\ipykernel_38132\\2888773040.py:9: UserWarning: Could not infer format, so each element will be parsed individually, falling back to `dateutil`. To ensure parsing is consistent and as-expected, please specify a format.\n",
            "  chunk['transit_timestamp'] = pd.to_datetime(chunk['transit_timestamp'])\n"
          ]
        },
        {
          "name": "stdout",
          "output_type": "stream",
          "text": [
            "Processing MTA chunk 172...\n"
          ]
        },
        {
          "name": "stderr",
          "output_type": "stream",
          "text": [
            "C:\\Users\\pcric\\AppData\\Local\\Temp\\ipykernel_38132\\2888773040.py:9: UserWarning: Could not infer format, so each element will be parsed individually, falling back to `dateutil`. To ensure parsing is consistent and as-expected, please specify a format.\n",
            "  chunk['transit_timestamp'] = pd.to_datetime(chunk['transit_timestamp'])\n"
          ]
        },
        {
          "name": "stdout",
          "output_type": "stream",
          "text": [
            "Processing MTA chunk 173...\n"
          ]
        },
        {
          "name": "stderr",
          "output_type": "stream",
          "text": [
            "C:\\Users\\pcric\\AppData\\Local\\Temp\\ipykernel_38132\\2888773040.py:9: UserWarning: Could not infer format, so each element will be parsed individually, falling back to `dateutil`. To ensure parsing is consistent and as-expected, please specify a format.\n",
            "  chunk['transit_timestamp'] = pd.to_datetime(chunk['transit_timestamp'])\n"
          ]
        },
        {
          "name": "stdout",
          "output_type": "stream",
          "text": [
            "Processing MTA chunk 174...\n",
            "Processing MTA chunk 175...\n",
            "Processing MTA chunk 175...\n",
            "Processing MTA chunk 176...\n",
            "Processing MTA chunk 176...\n",
            "Processing MTA chunk 177...\n",
            "Processing MTA chunk 177...\n",
            "Processing MTA chunk 178...\n",
            "Processing MTA chunk 178...\n"
          ]
        },
        {
          "name": "stderr",
          "output_type": "stream",
          "text": [
            "C:\\Users\\pcric\\AppData\\Local\\Temp\\ipykernel_38132\\2888773040.py:9: UserWarning: Could not infer format, so each element will be parsed individually, falling back to `dateutil`. To ensure parsing is consistent and as-expected, please specify a format.\n",
            "  chunk['transit_timestamp'] = pd.to_datetime(chunk['transit_timestamp'])\n"
          ]
        },
        {
          "name": "stdout",
          "output_type": "stream",
          "text": [
            "Processing MTA chunk 179...\n"
          ]
        },
        {
          "name": "stderr",
          "output_type": "stream",
          "text": [
            "C:\\Users\\pcric\\AppData\\Local\\Temp\\ipykernel_38132\\2888773040.py:9: UserWarning: Could not infer format, so each element will be parsed individually, falling back to `dateutil`. To ensure parsing is consistent and as-expected, please specify a format.\n",
            "  chunk['transit_timestamp'] = pd.to_datetime(chunk['transit_timestamp'])\n"
          ]
        },
        {
          "name": "stdout",
          "output_type": "stream",
          "text": [
            "Processing MTA chunk 180...\n",
            "Processing MTA chunk 181...\n",
            "Processing MTA chunk 181...\n"
          ]
        },
        {
          "name": "stderr",
          "output_type": "stream",
          "text": [
            "C:\\Users\\pcric\\AppData\\Local\\Temp\\ipykernel_38132\\2888773040.py:9: UserWarning: Could not infer format, so each element will be parsed individually, falling back to `dateutil`. To ensure parsing is consistent and as-expected, please specify a format.\n",
            "  chunk['transit_timestamp'] = pd.to_datetime(chunk['transit_timestamp'])\n"
          ]
        },
        {
          "name": "stdout",
          "output_type": "stream",
          "text": [
            "Processing MTA chunk 182...\n",
            "Processing MTA chunk 183...\n",
            "Processing MTA chunk 183...\n",
            "Processing MTA chunk 184...\n",
            "Processing MTA chunk 184...\n",
            "Processing MTA chunk 185...\n",
            "Processing MTA chunk 185...\n",
            "Processing MTA chunk 186...\n",
            "Processing MTA chunk 186...\n"
          ]
        },
        {
          "name": "stderr",
          "output_type": "stream",
          "text": [
            "C:\\Users\\pcric\\AppData\\Local\\Temp\\ipykernel_38132\\2888773040.py:9: UserWarning: Could not infer format, so each element will be parsed individually, falling back to `dateutil`. To ensure parsing is consistent and as-expected, please specify a format.\n",
            "  chunk['transit_timestamp'] = pd.to_datetime(chunk['transit_timestamp'])\n"
          ]
        },
        {
          "name": "stdout",
          "output_type": "stream",
          "text": [
            "Processing MTA chunk 187...\n"
          ]
        },
        {
          "name": "stderr",
          "output_type": "stream",
          "text": [
            "C:\\Users\\pcric\\AppData\\Local\\Temp\\ipykernel_38132\\2888773040.py:9: UserWarning: Could not infer format, so each element will be parsed individually, falling back to `dateutil`. To ensure parsing is consistent and as-expected, please specify a format.\n",
            "  chunk['transit_timestamp'] = pd.to_datetime(chunk['transit_timestamp'])\n"
          ]
        },
        {
          "name": "stdout",
          "output_type": "stream",
          "text": [
            "Processing MTA chunk 188...\n",
            "Processing MTA chunk 189...\n",
            "Processing MTA chunk 189...\n"
          ]
        },
        {
          "name": "stderr",
          "output_type": "stream",
          "text": [
            "C:\\Users\\pcric\\AppData\\Local\\Temp\\ipykernel_38132\\2888773040.py:9: UserWarning: Could not infer format, so each element will be parsed individually, falling back to `dateutil`. To ensure parsing is consistent and as-expected, please specify a format.\n",
            "  chunk['transit_timestamp'] = pd.to_datetime(chunk['transit_timestamp'])\n"
          ]
        },
        {
          "name": "stdout",
          "output_type": "stream",
          "text": [
            "Processing MTA chunk 190...\n",
            "Processing MTA chunk 191...\n",
            "Processing MTA chunk 191...\n",
            "Processing MTA chunk 192...\n",
            "Processing MTA chunk 192...\n"
          ]
        },
        {
          "name": "stderr",
          "output_type": "stream",
          "text": [
            "C:\\Users\\pcric\\AppData\\Local\\Temp\\ipykernel_38132\\2888773040.py:9: UserWarning: Could not infer format, so each element will be parsed individually, falling back to `dateutil`. To ensure parsing is consistent and as-expected, please specify a format.\n",
            "  chunk['transit_timestamp'] = pd.to_datetime(chunk['transit_timestamp'])\n"
          ]
        },
        {
          "name": "stdout",
          "output_type": "stream",
          "text": [
            "Processing MTA chunk 193...\n"
          ]
        },
        {
          "name": "stderr",
          "output_type": "stream",
          "text": [
            "C:\\Users\\pcric\\AppData\\Local\\Temp\\ipykernel_38132\\2888773040.py:9: UserWarning: Could not infer format, so each element will be parsed individually, falling back to `dateutil`. To ensure parsing is consistent and as-expected, please specify a format.\n",
            "  chunk['transit_timestamp'] = pd.to_datetime(chunk['transit_timestamp'])\n"
          ]
        },
        {
          "name": "stdout",
          "output_type": "stream",
          "text": [
            "Processing MTA chunk 194...\n"
          ]
        },
        {
          "name": "stderr",
          "output_type": "stream",
          "text": [
            "C:\\Users\\pcric\\AppData\\Local\\Temp\\ipykernel_38132\\2888773040.py:9: UserWarning: Could not infer format, so each element will be parsed individually, falling back to `dateutil`. To ensure parsing is consistent and as-expected, please specify a format.\n",
            "  chunk['transit_timestamp'] = pd.to_datetime(chunk['transit_timestamp'])\n"
          ]
        },
        {
          "name": "stdout",
          "output_type": "stream",
          "text": [
            "Processing MTA chunk 195...\n",
            "Processing MTA chunk 196...\n",
            "Processing MTA chunk 196...\n"
          ]
        },
        {
          "name": "stderr",
          "output_type": "stream",
          "text": [
            "C:\\Users\\pcric\\AppData\\Local\\Temp\\ipykernel_38132\\2888773040.py:9: UserWarning: Could not infer format, so each element will be parsed individually, falling back to `dateutil`. To ensure parsing is consistent and as-expected, please specify a format.\n",
            "  chunk['transit_timestamp'] = pd.to_datetime(chunk['transit_timestamp'])\n"
          ]
        },
        {
          "name": "stdout",
          "output_type": "stream",
          "text": [
            "Processing MTA chunk 197...\n",
            "Processing MTA chunk 198...\n",
            "Processing MTA chunk 198...\n",
            "Processing MTA chunk 199...\n",
            "Processing MTA chunk 199...\n"
          ]
        },
        {
          "name": "stderr",
          "output_type": "stream",
          "text": [
            "C:\\Users\\pcric\\AppData\\Local\\Temp\\ipykernel_38132\\2888773040.py:9: UserWarning: Could not infer format, so each element will be parsed individually, falling back to `dateutil`. To ensure parsing is consistent and as-expected, please specify a format.\n",
            "  chunk['transit_timestamp'] = pd.to_datetime(chunk['transit_timestamp'])\n"
          ]
        },
        {
          "name": "stdout",
          "output_type": "stream",
          "text": [
            "Processing MTA chunk 200...\n"
          ]
        },
        {
          "name": "stderr",
          "output_type": "stream",
          "text": [
            "C:\\Users\\pcric\\AppData\\Local\\Temp\\ipykernel_38132\\2888773040.py:9: UserWarning: Could not infer format, so each element will be parsed individually, falling back to `dateutil`. To ensure parsing is consistent and as-expected, please specify a format.\n",
            "  chunk['transit_timestamp'] = pd.to_datetime(chunk['transit_timestamp'])\n"
          ]
        },
        {
          "name": "stdout",
          "output_type": "stream",
          "text": [
            "Processing MTA chunk 201...\n",
            "Processing MTA chunk 202...\n",
            "Processing MTA chunk 202...\n"
          ]
        },
        {
          "name": "stderr",
          "output_type": "stream",
          "text": [
            "C:\\Users\\pcric\\AppData\\Local\\Temp\\ipykernel_38132\\2888773040.py:9: UserWarning: Could not infer format, so each element will be parsed individually, falling back to `dateutil`. To ensure parsing is consistent and as-expected, please specify a format.\n",
            "  chunk['transit_timestamp'] = pd.to_datetime(chunk['transit_timestamp'])\n"
          ]
        },
        {
          "name": "stdout",
          "output_type": "stream",
          "text": [
            "Processing MTA chunk 203...\n"
          ]
        },
        {
          "name": "stderr",
          "output_type": "stream",
          "text": [
            "C:\\Users\\pcric\\AppData\\Local\\Temp\\ipykernel_38132\\2888773040.py:9: UserWarning: Could not infer format, so each element will be parsed individually, falling back to `dateutil`. To ensure parsing is consistent and as-expected, please specify a format.\n",
            "  chunk['transit_timestamp'] = pd.to_datetime(chunk['transit_timestamp'])\n"
          ]
        },
        {
          "name": "stdout",
          "output_type": "stream",
          "text": [
            "Processing MTA chunk 204...\n"
          ]
        },
        {
          "name": "stderr",
          "output_type": "stream",
          "text": [
            "C:\\Users\\pcric\\AppData\\Local\\Temp\\ipykernel_38132\\2888773040.py:9: UserWarning: Could not infer format, so each element will be parsed individually, falling back to `dateutil`. To ensure parsing is consistent and as-expected, please specify a format.\n",
            "  chunk['transit_timestamp'] = pd.to_datetime(chunk['transit_timestamp'])\n"
          ]
        },
        {
          "name": "stdout",
          "output_type": "stream",
          "text": [
            "Processing MTA chunk 205...\n",
            "Processing MTA chunk 206...\n",
            "Processing MTA chunk 206...\n",
            "Processing MTA chunk 207...\n",
            "Processing MTA chunk 207...\n"
          ]
        },
        {
          "name": "stderr",
          "output_type": "stream",
          "text": [
            "C:\\Users\\pcric\\AppData\\Local\\Temp\\ipykernel_38132\\2888773040.py:9: UserWarning: Could not infer format, so each element will be parsed individually, falling back to `dateutil`. To ensure parsing is consistent and as-expected, please specify a format.\n",
            "  chunk['transit_timestamp'] = pd.to_datetime(chunk['transit_timestamp'])\n"
          ]
        },
        {
          "name": "stdout",
          "output_type": "stream",
          "text": [
            "Processing MTA chunk 208...\n"
          ]
        },
        {
          "name": "stderr",
          "output_type": "stream",
          "text": [
            "C:\\Users\\pcric\\AppData\\Local\\Temp\\ipykernel_38132\\2888773040.py:9: UserWarning: Could not infer format, so each element will be parsed individually, falling back to `dateutil`. To ensure parsing is consistent and as-expected, please specify a format.\n",
            "  chunk['transit_timestamp'] = pd.to_datetime(chunk['transit_timestamp'])\n"
          ]
        },
        {
          "name": "stdout",
          "output_type": "stream",
          "text": [
            "Processing MTA chunk 209...\n",
            "Processing MTA chunk 210...\n",
            "Processing MTA chunk 210...\n"
          ]
        },
        {
          "name": "stderr",
          "output_type": "stream",
          "text": [
            "C:\\Users\\pcric\\AppData\\Local\\Temp\\ipykernel_38132\\2888773040.py:9: UserWarning: Could not infer format, so each element will be parsed individually, falling back to `dateutil`. To ensure parsing is consistent and as-expected, please specify a format.\n",
            "  chunk['transit_timestamp'] = pd.to_datetime(chunk['transit_timestamp'])\n"
          ]
        },
        {
          "name": "stdout",
          "output_type": "stream",
          "text": [
            "Processing MTA chunk 211...\n"
          ]
        },
        {
          "name": "stderr",
          "output_type": "stream",
          "text": [
            "C:\\Users\\pcric\\AppData\\Local\\Temp\\ipykernel_38132\\2888773040.py:9: UserWarning: Could not infer format, so each element will be parsed individually, falling back to `dateutil`. To ensure parsing is consistent and as-expected, please specify a format.\n",
            "  chunk['transit_timestamp'] = pd.to_datetime(chunk['transit_timestamp'])\n"
          ]
        },
        {
          "name": "stdout",
          "output_type": "stream",
          "text": [
            "Processing MTA chunk 212...\n"
          ]
        },
        {
          "name": "stderr",
          "output_type": "stream",
          "text": [
            "C:\\Users\\pcric\\AppData\\Local\\Temp\\ipykernel_38132\\2888773040.py:9: UserWarning: Could not infer format, so each element will be parsed individually, falling back to `dateutil`. To ensure parsing is consistent and as-expected, please specify a format.\n",
            "  chunk['transit_timestamp'] = pd.to_datetime(chunk['transit_timestamp'])\n"
          ]
        },
        {
          "name": "stdout",
          "output_type": "stream",
          "text": [
            "Processing MTA chunk 213...\n",
            "Processing MTA chunk 214...\n",
            "Processing MTA chunk 214...\n",
            "Processing MTA chunk 215...\n",
            "Processing MTA chunk 215...\n",
            "Processing MTA chunk 216...\n",
            "Processing MTA chunk 216...\n",
            "Processing MTA chunk 217...\n",
            "Processing MTA chunk 217...\n"
          ]
        },
        {
          "name": "stderr",
          "output_type": "stream",
          "text": [
            "C:\\Users\\pcric\\AppData\\Local\\Temp\\ipykernel_38132\\2888773040.py:9: UserWarning: Could not infer format, so each element will be parsed individually, falling back to `dateutil`. To ensure parsing is consistent and as-expected, please specify a format.\n",
            "  chunk['transit_timestamp'] = pd.to_datetime(chunk['transit_timestamp'])\n"
          ]
        },
        {
          "name": "stdout",
          "output_type": "stream",
          "text": [
            "Processing MTA chunk 218...\n",
            "Processing MTA chunk 219...\n",
            "Processing MTA chunk 219...\n"
          ]
        },
        {
          "name": "stderr",
          "output_type": "stream",
          "text": [
            "C:\\Users\\pcric\\AppData\\Local\\Temp\\ipykernel_38132\\2888773040.py:9: UserWarning: Could not infer format, so each element will be parsed individually, falling back to `dateutil`. To ensure parsing is consistent and as-expected, please specify a format.\n",
            "  chunk['transit_timestamp'] = pd.to_datetime(chunk['transit_timestamp'])\n"
          ]
        },
        {
          "name": "stdout",
          "output_type": "stream",
          "text": [
            "Processing MTA chunk 220...\n"
          ]
        },
        {
          "name": "stderr",
          "output_type": "stream",
          "text": [
            "C:\\Users\\pcric\\AppData\\Local\\Temp\\ipykernel_38132\\2888773040.py:9: UserWarning: Could not infer format, so each element will be parsed individually, falling back to `dateutil`. To ensure parsing is consistent and as-expected, please specify a format.\n",
            "  chunk['transit_timestamp'] = pd.to_datetime(chunk['transit_timestamp'])\n"
          ]
        },
        {
          "name": "stdout",
          "output_type": "stream",
          "text": [
            "Processing MTA chunk 221...\n",
            "Processing MTA chunk 222...\n",
            "Concatenating processed MTA chunks...\n",
            "Processing MTA chunk 222...\n",
            "Concatenating processed MTA chunks...\n",
            "Finished processing MTA data. Final shape: (769148, 3)\n",
            "------------------------------\n",
            "Finished processing MTA data. Final shape: (769148, 3)\n",
            "------------------------------\n"
          ]
        }
      ],
      "source": [
        "# --- Cell 4: Load and Process Large MTA Dataset in Chunks ---\n",
        "print(\"\\n--- Processing Large MTA Dataset ---\")\n",
        "mta_iterator = load_and_display(MTA_FILE, chunksize=500000)\n",
        "\n",
        "if mta_iterator:\n",
        "    processed_chunks = []\n",
        "    for i, chunk in enumerate(mta_iterator):\n",
        "        print(f'Processing MTA chunk {i+1}...')\n",
        "        chunk['transit_timestamp'] = pd.to_datetime(chunk['transit_timestamp'])\n",
        "        chunk = chunk[['transit_timestamp', 'station_complex_id', 'ridership']]\n",
        "        # Fix: Only sum the ridership column, not the datetime column\n",
        "        daily_chunk = chunk.groupby([chunk['transit_timestamp'].dt.date, 'station_complex_id'])['ridership'].sum().reset_index()\n",
        "        daily_chunk.columns = ['date', 'station_complex_id', 'ridership']\n",
        "        processed_chunks.append(daily_chunk)\n",
        "    \n",
        "    print('Concatenating processed MTA chunks...')\n",
        "    df_mta_daily = pd.concat(processed_chunks).groupby(['date', 'station_complex_id']).sum().reset_index()\n",
        "    print(f'Finished processing MTA data. Final shape: {df_mta_daily.shape}')\n",
        "else:\n",
        "    df_mta_daily = None\n",
        "print(\"-\" * 30)"
      ]
    },
    {
      "cell_type": "code",
      "execution_count": 10,
      "id": "84f784c1",
      "metadata": {},
      "outputs": [
        {
          "name": "stdout",
          "output_type": "stream",
          "text": [
            "\n",
            "--- Processing Large ACRIS Dataset ---\n",
            "Loaded ACRIS_-_Real_Property_Legals_20250915.csv as a chunk iterator.\n",
            "Processing ACRIS chunk 1...\n",
            "Processing ACRIS chunk 1...\n",
            "Processing ACRIS chunk 2...\n",
            "Processing ACRIS chunk 2...\n",
            "Processing ACRIS chunk 3...\n",
            "Processing ACRIS chunk 3...\n",
            "Processing ACRIS chunk 4...\n",
            "Processing ACRIS chunk 4...\n",
            "Processing ACRIS chunk 5...\n",
            "Processing ACRIS chunk 5...\n",
            "Processing ACRIS chunk 6...\n",
            "Processing ACRIS chunk 6...\n",
            "Processing ACRIS chunk 7...\n",
            "Processing ACRIS chunk 7...\n",
            "Processing ACRIS chunk 8...\n",
            "Processing ACRIS chunk 8...\n",
            "Processing ACRIS chunk 9...\n",
            "Processing ACRIS chunk 9...\n",
            "Processing ACRIS chunk 10...\n",
            "Processing ACRIS chunk 10...\n",
            "Processing ACRIS chunk 11...\n",
            "Processing ACRIS chunk 11...\n",
            "Processing ACRIS chunk 12...\n",
            "Processing ACRIS chunk 12...\n",
            "Processing ACRIS chunk 13...\n",
            "Processing ACRIS chunk 13...\n",
            "Processing ACRIS chunk 14...\n",
            "Processing ACRIS chunk 14...\n",
            "Processing ACRIS chunk 15...\n",
            "Processing ACRIS chunk 15...\n",
            "Processing ACRIS chunk 16...\n",
            "Processing ACRIS chunk 16...\n",
            "Processing ACRIS chunk 17...\n",
            "Processing ACRIS chunk 17...\n",
            "Processing ACRIS chunk 18...\n",
            "Processing ACRIS chunk 18...\n",
            "Processing ACRIS chunk 19...\n",
            "Processing ACRIS chunk 19...\n",
            "Processing ACRIS chunk 20...\n",
            "Processing ACRIS chunk 20...\n",
            "Processing ACRIS chunk 21...\n",
            "Processing ACRIS chunk 21...\n",
            "Processing ACRIS chunk 22...\n",
            "Processing ACRIS chunk 22...\n",
            "Processing ACRIS chunk 23...\n",
            "Processing ACRIS chunk 23...\n",
            "Processing ACRIS chunk 24...\n",
            "Processing ACRIS chunk 24...\n",
            "Processing ACRIS chunk 25...\n",
            "Processing ACRIS chunk 25...\n",
            "Processing ACRIS chunk 26...\n",
            "Processing ACRIS chunk 26...\n",
            "Processing ACRIS chunk 27...\n",
            "Processing ACRIS chunk 27...\n",
            "Processing ACRIS chunk 28...\n",
            "Processing ACRIS chunk 28...\n",
            "Processing ACRIS chunk 29...\n",
            "Processing ACRIS chunk 29...\n",
            "Processing ACRIS chunk 30...\n",
            "Processing ACRIS chunk 30...\n",
            "Processing ACRIS chunk 31...\n",
            "Processing ACRIS chunk 31...\n",
            "Processing ACRIS chunk 32...\n",
            "Processing ACRIS chunk 32...\n",
            "Processing ACRIS chunk 33...\n",
            "Processing ACRIS chunk 33...\n",
            "Processing ACRIS chunk 34...\n",
            "Processing ACRIS chunk 34...\n",
            "Processing ACRIS chunk 35...\n",
            "Processing ACRIS chunk 35...\n",
            "Processing ACRIS chunk 36...\n",
            "Processing ACRIS chunk 36...\n",
            "Processing ACRIS chunk 37...\n",
            "Processing ACRIS chunk 37...\n",
            "Processing ACRIS chunk 38...\n",
            "Processing ACRIS chunk 38...\n",
            "Processing ACRIS chunk 39...\n",
            "Processing ACRIS chunk 39...\n",
            "Processing ACRIS chunk 40...\n",
            "Processing ACRIS chunk 40...\n",
            "Processing ACRIS chunk 41...\n",
            "Processing ACRIS chunk 41...\n",
            "Processing ACRIS chunk 42...\n",
            "Processing ACRIS chunk 42...\n",
            "Processing ACRIS chunk 43...\n",
            "Processing ACRIS chunk 43...\n",
            "Processing ACRIS chunk 44...\n",
            "Processing ACRIS chunk 44...\n",
            "Processing ACRIS chunk 45...\n",
            "Processing ACRIS chunk 45...\n",
            "Concatenating processed ACRIS chunks...\n",
            "Aggregating ACRIS data by BBL...\n",
            "Concatenating processed ACRIS chunks...\n",
            "Aggregating ACRIS data by BBL...\n",
            "Finished processing ACRIS data. Final shape: (1244069, 4)\n",
            "------------------------------\n",
            "Finished processing ACRIS data. Final shape: (1244069, 4)\n",
            "------------------------------\n"
          ]
        }
      ],
      "source": [
        "# --- Cell 5: Load and Process Large ACRIS Dataset in Chunks ---\n",
        "print(\"\\n--- Processing Large ACRIS Dataset ---\")\n",
        "acris_iterator = load_and_display(ACRIS_FILE, chunksize=500000)\n",
        "\n",
        "if acris_iterator:\n",
        "    processed_chunks = []\n",
        "    for i, chunk in enumerate(acris_iterator):\n",
        "        print(f'Processing ACRIS chunk {i+1}...')\n",
        "        # Convert BOROUGH, BLOCK, LOT to create BBL (Borough-Block-Lot)\n",
        "        chunk['BBL'] = chunk['BOROUGH'].astype(str) + chunk['BLOCK'].astype(str).str.zfill(5) + chunk['LOT'].astype(str).str.zfill(4)\n",
        "        # Use GOOD THROUGH DATE as the date field\n",
        "        chunk['GOOD THROUGH DATE'] = pd.to_datetime(chunk['GOOD THROUGH DATE'], errors='coerce')\n",
        "        # Select relevant columns (no DOCUMENT AMOUNT in this dataset)\n",
        "        chunk = chunk[['BBL', 'DOCUMENT ID', 'GOOD THROUGH DATE']].dropna(subset=['BBL', 'GOOD THROUGH DATE'])\n",
        "        processed_chunks.append(chunk)\n",
        "\n",
        "    print('Concatenating processed ACRIS chunks...')\n",
        "    df_acris_full = pd.concat(processed_chunks)\n",
        "    \n",
        "    print('Aggregating ACRIS data by BBL...')\n",
        "    # Sort by date to find the most recent record\n",
        "    df_acris_full = df_acris_full.sort_values('GOOD THROUGH DATE', ascending=False)\n",
        "    \n",
        "    # Aggregate to get last record info and record counts\n",
        "    acris_agg = df_acris_full.groupby('BBL').agg(\n",
        "        last_good_through_date=('GOOD THROUGH DATE', 'first'),\n",
        "        last_document_id=('DOCUMENT ID', 'first'),\n",
        "        record_count=('BBL', 'size')\n",
        "    ).reset_index()\n",
        "    \n",
        "    df_acris = acris_agg\n",
        "    print(f'Finished processing ACRIS data. Final shape: {df_acris.shape}')\n",
        "else:\n",
        "    df_acris = None\n",
        "print(\"-\" * 30)"
      ]
    },
    {
      "cell_type": "code",
      "execution_count": 16,
      "id": "a9e9c138",
      "metadata": {},
      "outputs": [
        {
          "name": "stdout",
          "output_type": "stream",
          "text": [
            "\n",
            "--- Saving Processed Files ---\n",
            "Successfully saved processed file to: ..\\data\\processed\\pluto_processed.csv\n",
            "Successfully saved processed file to: ..\\data\\processed\\pluto_processed.csv\n",
            "Successfully saved processed file to: ..\\data\\processed\\dob_permits_processed.csv\n",
            "Successfully saved processed file to: ..\\data\\processed\\dob_permits_processed.csv\n",
            "Successfully saved processed file to: ..\\data\\processed\\mta_daily_ridership_processed.csv\n",
            "Successfully saved processed file to: ..\\data\\processed\\mta_daily_ridership_processed.csv\n",
            "Successfully saved processed file to: ..\\data\\processed\\acris_aggregated_processed.csv\n",
            "Successfully saved processed file to: ..\\data\\processed\\acris_aggregated_processed.csv\n",
            "Successfully saved processed file to: ..\\data\\processed\\business_registry_processed.csv\n",
            "Successfully saved processed file to: ..\\data\\processed\\business_registry_processed.csv\n",
            "Successfully saved processed file to: ..\\data\\processed\\vacant_storefronts_processed.csv\n",
            "------------------------------\n",
            "Successfully saved processed file to: ..\\data\\processed\\vacant_storefronts_processed.csv\n",
            "------------------------------\n"
          ]
        }
      ],
      "source": [
        "# --- Cell 6: Standardize Columns and Save Processed Files ---\n",
        "print(\"\\n--- Saving Processed Files ---\")\n",
        "def to_snake_case(s):\n",
        "    \"\"\"Converts a string to snake_case.\"\"\"\n",
        "    return s.strip().lower().replace(' ', '_').replace('-', '_').replace('.', '')\n",
        "\n",
        "datasets = {\n",
        "    'pluto': df_pluto,\n",
        "    'dob_permits': df_dob,\n",
        "    'mta_daily_ridership': df_mta_daily,\n",
        "    'acris_aggregated': df_acris,\n",
        "    'business_registry': df_business,\n",
        "    'vacant_storefronts': df_vacant\n",
        "}\n",
        "\n",
        "for name, df in datasets.items():\n",
        "    if df is None:\n",
        "        print(f'Skipping {name} as it was not loaded.')\n",
        "        continue\n",
        "        \n",
        "    df.columns = [to_snake_case(c) for c in df.columns]\n",
        "    \n",
        "    if 'bbl' in df.columns:\n",
        "        df['bbl'] = df['bbl'].astype(str).str.split('.').str[0]\n",
        "    \n",
        "    output_path = PRO / f\"{name}_processed.csv\"\n",
        "    df.to_csv(output_path, index=False)\n",
        "    print(f'Successfully saved processed file to: {output_path}')\n",
        "print(\"-\" * 30)\n",
        "\n"
      ]
    },
    {
      "cell_type": "code",
      "execution_count": 12,
      "id": "e1d2e460",
      "metadata": {},
      "outputs": [
        {
          "name": "stdout",
          "output_type": "stream",
          "text": [
            "\n",
            "--- Loading Business Registry Dataset ---\n",
            "Loaded Business_Registry.csv: (66425, 31)\n",
            "First 5 rows:\n",
            "  License Number                Business Name DBA/Trade Name  \\\n",
            "0   2123226-DCWP             Denis Spedalieri            NaN   \n",
            "1    2089275-DCA  SANJAY'S VARIETY STORE INC.            NaN   \n",
            "2   2123284-DCWP                 Gayla Hibner            NaN   \n",
            "3    2080184-DCA    FAMILY CARE REFERRAL, LLC            NaN   \n",
            "4   2123026-DCWP                   Donna Hill            NaN   \n",
            "\n",
            "  Business Unique ID            Business Category License Type License Status  \\\n",
            "0    BA-1703334-2024            Sightseeing Guide   Individual         Active   \n",
            "1    BA-1500311-2022  Secondhand Dealer - General     Premises        Expired   \n",
            "2    BA-1698945-2024            Sightseeing Guide   Individual         Active   \n",
            "3    BA-1269913-2022            Employment Agency     Premises         Active   \n",
            "4    BA-1696202-2024            Sightseeing Guide   Individual         Active   \n",
            "\n",
            "  Initial Issuance Date Expiration Date Details  ...    Borough  \\\n",
            "0            08/01/2024      03/31/2026     NaN  ...        NaN   \n",
            "1            08/07/2019      07/31/2023     NaN  ...     Queens   \n",
            "2            08/05/2024      03/31/2026     NaN  ...        NaN   \n",
            "3            11/27/2018      05/01/2026     NaN  ...  Manhattan   \n",
            "4            07/24/2024      03/31/2026     NaN  ...        NaN   \n",
            "\n",
            "  Community Board Council District        BIN           BBL   NTA  \\\n",
            "0             NaN              NaN        NaN           NaN   NaN   \n",
            "1           412.0             23.0  4222128.0  4.104460e+09  QN07   \n",
            "2             NaN              NaN        NaN           NaN   NaN   \n",
            "3           105.0              4.0  1034313.0  1.012620e+09  MN17   \n",
            "4             NaN              NaN        NaN           NaN   NaN   \n",
            "\n",
            "  Census Block (2010) Census Tract (2010)  Latitude  Longitude  \n",
            "0                 NaN                 NaN       NaN        NaN  \n",
            "1              1007.0               482.0  40.71209 -73.769333  \n",
            "2                 NaN                 NaN       NaN        NaN  \n",
            "3              1003.0                96.0  40.75748 -73.982176  \n",
            "4                 NaN                 NaN       NaN        NaN  \n",
            "\n",
            "[5 rows x 31 columns]\n",
            "------------------------------\n",
            "Loaded Business_Registry.csv: (66425, 31)\n",
            "First 5 rows:\n",
            "  License Number                Business Name DBA/Trade Name  \\\n",
            "0   2123226-DCWP             Denis Spedalieri            NaN   \n",
            "1    2089275-DCA  SANJAY'S VARIETY STORE INC.            NaN   \n",
            "2   2123284-DCWP                 Gayla Hibner            NaN   \n",
            "3    2080184-DCA    FAMILY CARE REFERRAL, LLC            NaN   \n",
            "4   2123026-DCWP                   Donna Hill            NaN   \n",
            "\n",
            "  Business Unique ID            Business Category License Type License Status  \\\n",
            "0    BA-1703334-2024            Sightseeing Guide   Individual         Active   \n",
            "1    BA-1500311-2022  Secondhand Dealer - General     Premises        Expired   \n",
            "2    BA-1698945-2024            Sightseeing Guide   Individual         Active   \n",
            "3    BA-1269913-2022            Employment Agency     Premises         Active   \n",
            "4    BA-1696202-2024            Sightseeing Guide   Individual         Active   \n",
            "\n",
            "  Initial Issuance Date Expiration Date Details  ...    Borough  \\\n",
            "0            08/01/2024      03/31/2026     NaN  ...        NaN   \n",
            "1            08/07/2019      07/31/2023     NaN  ...     Queens   \n",
            "2            08/05/2024      03/31/2026     NaN  ...        NaN   \n",
            "3            11/27/2018      05/01/2026     NaN  ...  Manhattan   \n",
            "4            07/24/2024      03/31/2026     NaN  ...        NaN   \n",
            "\n",
            "  Community Board Council District        BIN           BBL   NTA  \\\n",
            "0             NaN              NaN        NaN           NaN   NaN   \n",
            "1           412.0             23.0  4222128.0  4.104460e+09  QN07   \n",
            "2             NaN              NaN        NaN           NaN   NaN   \n",
            "3           105.0              4.0  1034313.0  1.012620e+09  MN17   \n",
            "4             NaN              NaN        NaN           NaN   NaN   \n",
            "\n",
            "  Census Block (2010) Census Tract (2010)  Latitude  Longitude  \n",
            "0                 NaN                 NaN       NaN        NaN  \n",
            "1              1007.0               482.0  40.71209 -73.769333  \n",
            "2                 NaN                 NaN       NaN        NaN  \n",
            "3              1003.0                96.0  40.75748 -73.982176  \n",
            "4                 NaN                 NaN       NaN        NaN  \n",
            "\n",
            "[5 rows x 31 columns]\n",
            "------------------------------\n"
          ]
        }
      ],
      "source": [
        "# --- Cell 7: Load Business Registry Dataset ---\n",
        "print(\"\\n--- Loading Business Registry Dataset ---\")\n",
        "df_business = load_and_display(BIZ_REGISTRY_FILE)\n",
        "print(\"-\" * 30)"
      ]
    },
    {
      "cell_type": "code",
      "execution_count": 15,
      "id": "8664a46a",
      "metadata": {},
      "outputs": [
        {
          "name": "stdout",
          "output_type": "stream",
          "text": [
            "\n",
            "--- Loading Vacant Storefront Dataset ---\n",
            "Loaded Storefronts_Reported_Vacant_or_Not_20250915.csv: (348297, 27)\n",
            "First 5 rows:\n",
            "  Filing Due Date Reporting Year  Borough Block Lot  \\\n",
            "0      06/03/2024           2023         5051430020   \n",
            "1      06/03/2024           2023         5005430010   \n",
            "2      06/03/2024           2023         5051430017   \n",
            "3      06/03/2024           2023         5006550014   \n",
            "4      06/03/2024           2023         5001730034   \n",
            "\n",
            "  Property Street Address or Storefront Address        Borough Zip Code  \\\n",
            "0                               3996 AMBOY ROAD  STATEN ISLAND    10308   \n",
            "1                              271 BROAD STREET  STATEN ISLAND    10304   \n",
            "2                               3 NELSON AVENUE  STATEN ISLAND    10308   \n",
            "3                               1366 CLOVE ROAD  STATEN ISLAND    10301   \n",
            "4                          693 HENDERSON AVENUE  STATEN ISLAND    10310   \n",
            "\n",
            "  Sold Date Vacant on 12/31 Construction Reported Vacant 6/30 or Date Sold  \\\n",
            "0       NaN             NaN                     N                      NaN   \n",
            "1       NaN             YES                     N                      NaN   \n",
            "2       NaN             NaN                     N                      NaN   \n",
            "3       NaN             YES                     N                      NaN   \n",
            "4       NaN             YES                     N                      NaN   \n",
            "\n",
            "   ...   Latitude  Longitude                        Lat/Long Community Board  \\\n",
            "0  ...  40.550136 -74.150602  POINT (-74.1506024 40.5501364)           503.0   \n",
            "1  ...  40.623625 -74.083549  POINT (-74.0835487 40.6236254)           501.0   \n",
            "2  ...  40.549870 -74.150609   POINT (-74.150609 40.5498701)           503.0   \n",
            "3  ...  40.614009 -74.101917  POINT (-74.1019167 40.6140093)           501.0   \n",
            "4  ...  40.637527 -74.115630  POINT (-74.1156299 40.6375275)           501.0   \n",
            "\n",
            "  Council District Census Tract      BIN         BBL     NTA  \\\n",
            "0             51.0       013203  5065713  5051430020  SI0302   \n",
            "1             49.0       002100  5166592  5005430010  SI0102   \n",
            "2             51.0       013203  5065711  5051430017  SI0302   \n",
            "3             49.0       016901  5016536  5006550014  SI0105   \n",
            "4             49.0       010500  5108642  5001730034  SI0104   \n",
            "\n",
            "                            NTA Neighborhood  \n",
            "0                    Great Kills-Eltingville  \n",
            "1  Tompkinsville-Stapleton-Clifton-Fox Hills  \n",
            "2                    Great Kills-Eltingville  \n",
            "3              Westerleigh-Castleton Corners  \n",
            "4  West New Brighton-Silver Lake-Grymes Hill  \n",
            "\n",
            "[5 rows x 27 columns]\n",
            "------------------------------\n",
            "\n",
            "--- Adding Missing Datasets to Processing ---\n",
            "Added business_registry and vacant_storefronts to processing queue\n",
            "------------------------------\n",
            "Loaded Storefronts_Reported_Vacant_or_Not_20250915.csv: (348297, 27)\n",
            "First 5 rows:\n",
            "  Filing Due Date Reporting Year  Borough Block Lot  \\\n",
            "0      06/03/2024           2023         5051430020   \n",
            "1      06/03/2024           2023         5005430010   \n",
            "2      06/03/2024           2023         5051430017   \n",
            "3      06/03/2024           2023         5006550014   \n",
            "4      06/03/2024           2023         5001730034   \n",
            "\n",
            "  Property Street Address or Storefront Address        Borough Zip Code  \\\n",
            "0                               3996 AMBOY ROAD  STATEN ISLAND    10308   \n",
            "1                              271 BROAD STREET  STATEN ISLAND    10304   \n",
            "2                               3 NELSON AVENUE  STATEN ISLAND    10308   \n",
            "3                               1366 CLOVE ROAD  STATEN ISLAND    10301   \n",
            "4                          693 HENDERSON AVENUE  STATEN ISLAND    10310   \n",
            "\n",
            "  Sold Date Vacant on 12/31 Construction Reported Vacant 6/30 or Date Sold  \\\n",
            "0       NaN             NaN                     N                      NaN   \n",
            "1       NaN             YES                     N                      NaN   \n",
            "2       NaN             NaN                     N                      NaN   \n",
            "3       NaN             YES                     N                      NaN   \n",
            "4       NaN             YES                     N                      NaN   \n",
            "\n",
            "   ...   Latitude  Longitude                        Lat/Long Community Board  \\\n",
            "0  ...  40.550136 -74.150602  POINT (-74.1506024 40.5501364)           503.0   \n",
            "1  ...  40.623625 -74.083549  POINT (-74.0835487 40.6236254)           501.0   \n",
            "2  ...  40.549870 -74.150609   POINT (-74.150609 40.5498701)           503.0   \n",
            "3  ...  40.614009 -74.101917  POINT (-74.1019167 40.6140093)           501.0   \n",
            "4  ...  40.637527 -74.115630  POINT (-74.1156299 40.6375275)           501.0   \n",
            "\n",
            "  Council District Census Tract      BIN         BBL     NTA  \\\n",
            "0             51.0       013203  5065713  5051430020  SI0302   \n",
            "1             49.0       002100  5166592  5005430010  SI0102   \n",
            "2             51.0       013203  5065711  5051430017  SI0302   \n",
            "3             49.0       016901  5016536  5006550014  SI0105   \n",
            "4             49.0       010500  5108642  5001730034  SI0104   \n",
            "\n",
            "                            NTA Neighborhood  \n",
            "0                    Great Kills-Eltingville  \n",
            "1  Tompkinsville-Stapleton-Clifton-Fox Hills  \n",
            "2                    Great Kills-Eltingville  \n",
            "3              Westerleigh-Castleton Corners  \n",
            "4  West New Brighton-Silver Lake-Grymes Hill  \n",
            "\n",
            "[5 rows x 27 columns]\n",
            "------------------------------\n",
            "\n",
            "--- Adding Missing Datasets to Processing ---\n",
            "Added business_registry and vacant_storefronts to processing queue\n",
            "------------------------------\n"
          ]
        }
      ],
      "source": [
        "# --- Cell 8: Load Vacant Storefront Dataset ---\n",
        "print(\"\\n--- Loading Vacant Storefront Dataset ---\")\n",
        "df_vacant = load_and_display(VACANT_STORE_FILE)\n",
        "print(\"-\" * 30)\n",
        "\n",
        "# --- Cell 9: Add Missing Datasets to Processing ---\n",
        "print(\"\\n--- Adding Missing Datasets to Processing ---\")\n",
        "# Add the new datasets to the existing datasets dictionary\n",
        "datasets['business_registry'] = df_business\n",
        "datasets['vacant_storefronts'] = df_vacant\n",
        "print(\"Added business_registry and vacant_storefronts to processing queue\")\n",
        "print(\"-\" * 30)"
      ]
    }
  ],
  "metadata": {
    "kernelspec": {
      "display_name": ".venv",
      "language": "python",
      "name": "python3"
    },
    "language_info": {
      "codemirror_mode": {
        "name": "ipython",
        "version": 3
      },
      "file_extension": ".py",
      "mimetype": "text/x-python",
      "name": "python",
      "nbconvert_exporter": "python",
      "pygments_lexer": "ipython3",
      "version": "3.12.8"
    }
  },
  "nbformat": 4,
  "nbformat_minor": 5
}
