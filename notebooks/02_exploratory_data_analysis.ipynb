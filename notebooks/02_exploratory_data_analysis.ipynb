{
  "cells": [
    {
      "cell_type": "markdown",
      "metadata": {},
      "source": "# 02 \u00b7 Exploratory Data Analysis\nUse files in `../data/processed/` to explore distributions and data quality."
    },
    {
      "cell_type": "code",
      "execution_count": null,
      "metadata": {},
      "outputs": [],
      "source": "import pandas as pd, matplotlib.pyplot as plt\nfrom pathlib import Path\nPRO = Path('../data/processed')\nPLUTO = pd.read_csv(PRO/'pluto_clean.csv') if (PRO/'pluto_clean.csv').exists() else None\nprint('Ready.')"
    }
  ],
  "metadata": {},
  "nbformat": 4,
  "nbformat_minor": 5
}