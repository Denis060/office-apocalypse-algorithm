{
  "cells": [
    {
      "cell_type": "markdown",
      "metadata": {},
      "source": "# 04 \u00b7 Model Prototyping\nTrain baseline and GBDT models; evaluate and save artifacts."
    },
    {
      "cell_type": "code",
      "execution_count": null,
      "metadata": {},
      "outputs": [],
      "source": "print('Model prototyping scaffold. Load features, split temporally, train, evaluate.')"
    }
  ],
  "metadata": {},
  "nbformat": 4,
  "nbformat_minor": 5
}